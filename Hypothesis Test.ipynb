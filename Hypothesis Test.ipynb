{
 "cells": [
  {
   "cell_type": "code",
   "execution_count": 1,
   "id": "110f381c",
   "metadata": {},
   "outputs": [
    {
     "name": "stdout",
     "output_type": "stream",
     "text": [
      "True\n"
     ]
    }
   ],
   "source": [
    "import sys\n",
    "print('warnings' in sys.modules)"
   ]
  },
  {
   "cell_type": "code",
   "execution_count": 2,
   "id": "5f116271",
   "metadata": {},
   "outputs": [],
   "source": [
    "import warnings"
   ]
  },
  {
   "cell_type": "code",
   "execution_count": 3,
   "id": "46183d5f",
   "metadata": {},
   "outputs": [],
   "source": [
    "warnings.filterwarnings(\"ignore\")"
   ]
  },
  {
   "cell_type": "code",
   "execution_count": 4,
   "id": "0bbad22a",
   "metadata": {},
   "outputs": [],
   "source": [
    "import numpy as np\n",
    "from statistics import mode"
   ]
  },
  {
   "cell_type": "code",
   "execution_count": 5,
   "id": "636d95b7",
   "metadata": {},
   "outputs": [],
   "source": [
    "population=np.random.randint(10,20,50)"
   ]
  },
  {
   "cell_type": "code",
   "execution_count": 6,
   "id": "7ab9373b",
   "metadata": {},
   "outputs": [],
   "source": [
    "population1=np.random.randn()"
   ]
  },
  {
   "cell_type": "code",
   "execution_count": 7,
   "id": "c9335aab",
   "metadata": {},
   "outputs": [
    {
     "data": {
      "text/plain": [
       "0.9843356911741739"
      ]
     },
     "execution_count": 7,
     "metadata": {},
     "output_type": "execute_result"
    }
   ],
   "source": [
    "population1"
   ]
  },
  {
   "cell_type": "code",
   "execution_count": 8,
   "id": "dc8e7b33",
   "metadata": {
    "scrolled": true
   },
   "outputs": [
    {
     "data": {
      "text/plain": [
       "array([16, 15, 13, 17, 15, 17, 13, 18, 11, 19, 13, 19, 16, 11, 17, 17, 14,\n",
       "       10, 12, 10, 13, 15, 10, 12, 12, 10, 17, 11, 15, 14, 16, 13, 18, 15,\n",
       "       18, 10, 18, 19, 18, 14, 18, 17, 10, 10, 12, 16, 11, 12, 12, 17])"
      ]
     },
     "execution_count": 8,
     "metadata": {},
     "output_type": "execute_result"
    }
   ],
   "source": [
    "population"
   ]
  },
  {
   "cell_type": "code",
   "execution_count": 9,
   "id": "a78b2ddb",
   "metadata": {
    "scrolled": true
   },
   "outputs": [
    {
     "data": {
      "text/plain": [
       "14.32"
      ]
     },
     "execution_count": 9,
     "metadata": {},
     "output_type": "execute_result"
    }
   ],
   "source": [
    "population.mean()"
   ]
  },
  {
   "cell_type": "code",
   "execution_count": null,
   "id": "d944c668",
   "metadata": {},
   "outputs": [],
   "source": []
  },
  {
   "cell_type": "code",
   "execution_count": 10,
   "id": "7e398a59",
   "metadata": {},
   "outputs": [
    {
     "data": {
      "text/plain": [
       "14.32"
      ]
     },
     "execution_count": 10,
     "metadata": {},
     "output_type": "execute_result"
    }
   ],
   "source": [
    "np.mean(population)"
   ]
  },
  {
   "cell_type": "code",
   "execution_count": 11,
   "id": "8036fd96",
   "metadata": {},
   "outputs": [
    {
     "data": {
      "text/plain": [
       "14.5"
      ]
     },
     "execution_count": 11,
     "metadata": {},
     "output_type": "execute_result"
    }
   ],
   "source": [
    "np.median(population)"
   ]
  },
  {
   "cell_type": "code",
   "execution_count": 12,
   "id": "3739cb6e",
   "metadata": {},
   "outputs": [
    {
     "data": {
      "text/plain": [
       "17"
      ]
     },
     "execution_count": 12,
     "metadata": {},
     "output_type": "execute_result"
    }
   ],
   "source": [
    "mode(population)"
   ]
  },
  {
   "cell_type": "code",
   "execution_count": 13,
   "id": "01e2588e",
   "metadata": {},
   "outputs": [
    {
     "name": "stdout",
     "output_type": "stream",
     "text": [
      "mean of the population is 14.32\n",
      "median of the population is 14.5\n",
      "mode of the population is 17\n"
     ]
    }
   ],
   "source": [
    "print(f\"mean of the population is {np.mean(population)}\")\n",
    "print(f\"median of the population is {np.median(population)}\")\n",
    "print(f\"mode of the population is {mode(population)}\")"
   ]
  },
  {
   "cell_type": "code",
   "execution_count": 14,
   "id": "f89146a2",
   "metadata": {},
   "outputs": [],
   "source": [
    "sample=np.random.choice(population,20)"
   ]
  },
  {
   "cell_type": "code",
   "execution_count": 15,
   "id": "527f6c5c",
   "metadata": {},
   "outputs": [
    {
     "data": {
      "text/plain": [
       "array([14, 12, 19, 12, 10, 10, 12, 12, 12, 18, 11, 17, 14, 13, 10, 18, 15,\n",
       "       13, 13, 10])"
      ]
     },
     "execution_count": 15,
     "metadata": {},
     "output_type": "execute_result"
    }
   ],
   "source": [
    "sample"
   ]
  },
  {
   "cell_type": "code",
   "execution_count": 16,
   "id": "7c0898fd",
   "metadata": {},
   "outputs": [
    {
     "name": "stdout",
     "output_type": "stream",
     "text": [
      "mean of the sample is 13.25\n",
      "median of the sample is 12.5\n",
      "mode of the sample is 12\n"
     ]
    }
   ],
   "source": [
    "print(f\"mean of the sample is {np.mean(sample)}\")\n",
    "print(f\"median of the sample is {np.median(sample)}\")\n",
    "print(f\"mode of the sample is {mode(sample)}\")"
   ]
  },
  {
   "cell_type": "code",
   "execution_count": 17,
   "id": "52393a26",
   "metadata": {},
   "outputs": [],
   "source": [
    "sample1=np.random.choice(population,20)\n",
    "sample2=np.random.choice(population,20)\n",
    "sample3=np.random.choice(population,20)\n",
    "sample4=np.random.choice(population,20)"
   ]
  },
  {
   "cell_type": "code",
   "execution_count": 18,
   "id": "ea1bf99c",
   "metadata": {},
   "outputs": [
    {
     "name": "stdout",
     "output_type": "stream",
     "text": [
      "[16 17 15 18 19 11 13 13 15 15 17 15 13 14 15 18 17 19 12 14]\n",
      "[12 18 17 15 10 10 16 19 11 16 15 11 12 18 11 17 14 12 18 13]\n",
      "[14 16 12 19 17 18 19 15 10 10 10 17 19 17 17 19 13 18 13 14]\n",
      "[13 12 11 18 10 19 11 13 12 19 10 13 15 17 18 15 12 19 17 14]\n"
     ]
    }
   ],
   "source": [
    "print(sample1)\n",
    "print(sample2)\n",
    "print(sample3)\n",
    "print(sample4)\n"
   ]
  },
  {
   "cell_type": "code",
   "execution_count": 19,
   "id": "66c16f59",
   "metadata": {},
   "outputs": [],
   "source": [
    "mean_of_samples=[]\n",
    "all_sample=[sample1,sample2,sample3,sample4]\n",
    "for sample in all_sample:\n",
    "    mean_of_samples.append(np.mean(sample))"
   ]
  },
  {
   "cell_type": "code",
   "execution_count": 20,
   "id": "0b4b31b6",
   "metadata": {},
   "outputs": [
    {
     "data": {
      "text/plain": [
       "[15.3, 14.25, 15.35, 14.4]"
      ]
     },
     "execution_count": 20,
     "metadata": {},
     "output_type": "execute_result"
    }
   ],
   "source": [
    "mean_of_samples"
   ]
  },
  {
   "cell_type": "markdown",
   "id": "d99904e2",
   "metadata": {},
   "source": [
    "## central limit theorm ##"
   ]
  },
  {
   "cell_type": "code",
   "execution_count": 21,
   "id": "e67dfaa0",
   "metadata": {},
   "outputs": [],
   "source": [
    "population=np.random.binomial(10,0.5,10000)"
   ]
  },
  {
   "cell_type": "code",
   "execution_count": 22,
   "id": "b9dae18e",
   "metadata": {},
   "outputs": [
    {
     "data": {
      "text/plain": [
       "array([3, 4, 4, ..., 6, 4, 6])"
      ]
     },
     "execution_count": 22,
     "metadata": {},
     "output_type": "execute_result"
    }
   ],
   "source": [
    "population"
   ]
  },
  {
   "cell_type": "code",
   "execution_count": 23,
   "id": "4f316841",
   "metadata": {},
   "outputs": [
    {
     "data": {
      "text/plain": [
       "10000"
      ]
     },
     "execution_count": 23,
     "metadata": {},
     "output_type": "execute_result"
    }
   ],
   "source": [
    "len(population)"
   ]
  },
  {
   "cell_type": "code",
   "execution_count": 24,
   "id": "3b22750f",
   "metadata": {},
   "outputs": [
    {
     "data": {
      "text/plain": [
       "<AxesSubplot: ylabel='Density'>"
      ]
     },
     "execution_count": 24,
     "metadata": {},
     "output_type": "execute_result"
    },
    {
     "data": {
      "image/png": "[encoded data removed]",
      "text/plain": [
       "<Figure size 640x480 with 1 Axes>"
      ]
     },
     "metadata": {},
     "output_type": "display_data"
    }
   ],
   "source": [
    "import seaborn as sns\n",
    "sns.distplot(population)"
   ]
  },
  {
   "cell_type": "code",
   "execution_count": 25,
   "id": "a5e5c553",
   "metadata": {
    "scrolled": true
   },
   "outputs": [
    {
     "data": {
      "text/plain": [
       "10000"
      ]
     },
     "execution_count": 25,
     "metadata": {},
     "output_type": "execute_result"
    }
   ],
   "source": [
    "len(population)"
   ]
  },
  {
   "cell_type": "code",
   "execution_count": 26,
   "id": "f20c3d86",
   "metadata": {},
   "outputs": [
    {
     "data": {
      "text/plain": [
       "3000"
      ]
     },
     "execution_count": 26,
     "metadata": {},
     "output_type": "execute_result"
    }
   ],
   "source": [
    "int(len(population)*0.30)"
   ]
  },
  {
   "cell_type": "code",
   "execution_count": 27,
   "id": "3e313529",
   "metadata": {},
   "outputs": [],
   "source": [
    "size=int(len(population)*0.30)"
   ]
  },
  {
   "cell_type": "code",
   "execution_count": 28,
   "id": "b3927d7b",
   "metadata": {},
   "outputs": [],
   "source": [
    "sample_mean=[]\n",
    "for i in range(1,31):\n",
    "    sample=np.random.choice(population,size=size)\n",
    "    sample_mean.append(np.mean(sample))"
   ]
  },
  {
   "cell_type": "code",
   "execution_count": 29,
   "id": "403cb952",
   "metadata": {},
   "outputs": [
    {
     "data": {
      "text/plain": [
       "[5.04,\n",
       " 4.979666666666667,\n",
       " 5.009,\n",
       " 5.026,\n",
       " 5.028333333333333,\n",
       " 5.009333333333333,\n",
       " 4.993333333333333,\n",
       " 5.003,\n",
       " 4.9943333333333335,\n",
       " 5.054,\n",
       " 5.023666666666666,\n",
       " 5.035,\n",
       " 4.986,\n",
       " 4.999666666666666,\n",
       " 4.998666666666667,\n",
       " 5.014333333333333,\n",
       " 5.014,\n",
       " 5.055,\n",
       " 4.979666666666667,\n",
       " 5.026666666666666,\n",
       " 4.990333333333333,\n",
       " 5.069,\n",
       " 4.9896666666666665,\n",
       " 5.030666666666667,\n",
       " 4.991333333333333,\n",
       " 5.002,\n",
       " 5.002,\n",
       " 4.995,\n",
       " 5.050666666666666,\n",
       " 4.990333333333333]"
      ]
     },
     "execution_count": 29,
     "metadata": {},
     "output_type": "execute_result"
    }
   ],
   "source": [
    "sample_mean"
   ]
  },
  {
   "cell_type": "code",
   "execution_count": 30,
   "id": "6e34d961",
   "metadata": {},
   "outputs": [
    {
     "data": {
      "text/plain": [
       "<AxesSubplot: ylabel='Density'>"
      ]
     },
     "execution_count": 30,
     "metadata": {},
     "output_type": "execute_result"
    },
    {
     "data": {
      "image/png": "[encoded data removed]",
      "text/plain": [
       "<Figure size 640x480 with 1 Axes>"
      ]
     },
     "metadata": {},
     "output_type": "display_data"
    }
   ],
   "source": [
    "sns.distplot(sample_mean)"
   ]
  },
  {
   "cell_type": "code",
   "execution_count": 31,
   "id": "c1892dc3",
   "metadata": {},
   "outputs": [],
   "source": [
    "sample_mean=[]\n",
    "for i in range(1,100):\n",
    "    sample=np.random.choice(population,size=size)\n",
    "    sample_mean.append(np.mean(sample))"
   ]
  },
  {
   "cell_type": "code",
   "execution_count": 32,
   "id": "fc523d6b",
   "metadata": {},
   "outputs": [
    {
     "data": {
      "text/plain": [
       "<AxesSubplot: ylabel='Density'>"
      ]
     },
     "execution_count": 32,
     "metadata": {},
     "output_type": "execute_result"
    },
    {
     "data": {
      "image/png": "[encoded data removed]",
      "text/plain": [
       "<Figure size 640x480 with 1 Axes>"
      ]
     },
     "metadata": {},
     "output_type": "display_data"
    }
   ],
   "source": [
    "sns.distplot(sample_mean)"
   ]
  },
  {
   "cell_type": "code",
   "execution_count": 33,
   "id": "d3a79013",
   "metadata": {},
   "outputs": [],
   "source": [
    "sample_mean=[]\n",
    "for i in range(1,500):\n",
    "    sample=np.random.choice(population,size=size)\n",
    "    sample_mean.append(np.mean(sample))"
   ]
  },
  {
   "cell_type": "code",
   "execution_count": 34,
   "id": "3e387deb",
   "metadata": {},
   "outputs": [
    {
     "data": {
      "text/plain": [
       "<AxesSubplot: ylabel='Density'>"
      ]
     },
     "execution_count": 34,
     "metadata": {},
     "output_type": "execute_result"
    },
    {
     "data": {
      "image/png": "[encoded data removed]",
      "text/plain": [
       "<Figure size 640x480 with 1 Axes>"
      ]
     },
     "metadata": {},
     "output_type": "display_data"
    }
   ],
   "source": [
    "sns.distplot(sample_mean,kde=True,color=\"red\")"
   ]
  },
  {
   "cell_type": "code",
   "execution_count": 35,
   "id": "f1425b24",
   "metadata": {},
   "outputs": [],
   "source": [
    "sample_mean=[]\n",
    "for i in range(1,1200):\n",
    "    sample=np.random.choice(population,size=size)\n",
    "    sample_mean.append(np.mean(sample))"
   ]
  },
  {
   "cell_type": "code",
   "execution_count": 36,
   "id": "9b03be01",
   "metadata": {},
   "outputs": [
    {
     "data": {
      "text/plain": [
       "<AxesSubplot: ylabel='Density'>"
      ]
     },
     "execution_count": 36,
     "metadata": {},
     "output_type": "execute_result"
    },
    {
     "data": {
      "image/png": "[encoded data removed]",
      "text/plain": [
       "<Figure size 640x480 with 1 Axes>"
      ]
     },
     "metadata": {},
     "output_type": "display_data"
    }
   ],
   "source": [
    "sns.distplot(sample_mean,kde=True,color=\"green\")"
   ]
  },
  {
   "cell_type": "markdown",
   "id": "133a22cd",
   "metadata": {},
   "source": [
    "## Confidence interval and margin of error ##"
   ]
  },
  {
   "cell_type": "code",
   "execution_count": 37,
   "id": "d93791c2",
   "metadata": {},
   "outputs": [],
   "source": [
    "population=np.random.randint(10,20,50)"
   ]
  },
  {
   "cell_type": "code",
   "execution_count": 38,
   "id": "480266e3",
   "metadata": {},
   "outputs": [
    {
     "data": {
      "text/plain": [
       "array([14, 15, 16, 10, 11, 18, 13, 15, 12, 13, 16, 15, 12, 17, 19, 10, 18,\n",
       "       10, 18, 11, 14, 14, 15, 18, 14, 17, 11, 18, 19, 15, 10, 18, 18, 14,\n",
       "       10, 15, 19, 15, 12, 15, 16, 10, 18, 17, 11, 15, 18, 13, 17, 12])"
      ]
     },
     "execution_count": 38,
     "metadata": {},
     "output_type": "execute_result"
    }
   ],
   "source": [
    "population"
   ]
  },
  {
   "cell_type": "code",
   "execution_count": 39,
   "id": "afc5f84e",
   "metadata": {},
   "outputs": [],
   "source": [
    "sample1=np.random.choice(population,20)\n",
    "sample2=np.random.choice(population,20)\n",
    "sample3=np.random.choice(population,20)\n",
    "sample4=np.random.choice(population,20)"
   ]
  },
  {
   "cell_type": "code",
   "execution_count": 40,
   "id": "99a0bf04",
   "metadata": {},
   "outputs": [],
   "source": [
    "mean_of_samples=[]\n",
    "all_sample=[sample1,sample2,sample3,sample4]\n",
    "for sample in all_sample:\n",
    "    mean_of_samples.append(np.mean(sample))"
   ]
  },
  {
   "cell_type": "code",
   "execution_count": 41,
   "id": "9505daf6",
   "metadata": {},
   "outputs": [],
   "source": [
    "import scipy.stats as stats"
   ]
  },
  {
   "cell_type": "code",
   "execution_count": 42,
   "id": "da519d1a",
   "metadata": {},
   "outputs": [
    {
     "data": {
      "text/plain": [
       "1.6448536269514722"
      ]
     },
     "execution_count": 42,
     "metadata": {},
     "output_type": "execute_result"
    }
   ],
   "source": [
    "stats.norm.ppf(q=0.95)"
   ]
  },
  {
   "cell_type": "code",
   "execution_count": 43,
   "id": "372b0514",
   "metadata": {},
   "outputs": [
    {
     "data": {
      "text/plain": [
       "1.959963984540054"
      ]
     },
     "execution_count": 43,
     "metadata": {},
     "output_type": "execute_result"
    }
   ],
   "source": [
    "stats.norm.ppf(q=0.975)"
   ]
  },
  {
   "cell_type": "code",
   "execution_count": 44,
   "id": "dd6f901c",
   "metadata": {},
   "outputs": [
    {
     "data": {
      "text/plain": [
       "2.3263478740408408"
      ]
     },
     "execution_count": 44,
     "metadata": {},
     "output_type": "execute_result"
    }
   ],
   "source": [
    "stats.norm.ppf(q=0.99)"
   ]
  },
  {
   "cell_type": "code",
   "execution_count": 45,
   "id": "9ef24446",
   "metadata": {},
   "outputs": [],
   "source": [
    "z_critical=stats.norm.ppf(q=0.975)"
   ]
  },
  {
   "cell_type": "code",
   "execution_count": 46,
   "id": "1ad44156",
   "metadata": {},
   "outputs": [
    {
     "data": {
      "text/plain": [
       "1.959963984540054"
      ]
     },
     "execution_count": 46,
     "metadata": {},
     "output_type": "execute_result"
    }
   ],
   "source": [
    "z_critical"
   ]
  },
  {
   "cell_type": "code",
   "execution_count": 47,
   "id": "01c79375",
   "metadata": {},
   "outputs": [],
   "source": [
    "t_critical=stats.t.ppf(q=0.975,df=24)"
   ]
  },
  {
   "cell_type": "code",
   "execution_count": 48,
   "id": "3b20ca1b",
   "metadata": {},
   "outputs": [],
   "source": [
    "margin_of_error=z_critical*(np.std(sample_mean/np.sqrt(20)))"
   ]
  },
  {
   "cell_type": "code",
   "execution_count": 49,
   "id": "b5cbbb80",
   "metadata": {},
   "outputs": [
    {
     "data": {
      "text/plain": [
       "14.874616176690814"
      ]
     },
     "execution_count": 49,
     "metadata": {},
     "output_type": "execute_result"
    }
   ],
   "source": [
    "np.mean(mean_of_samples)-margin_of_error"
   ]
  },
  {
   "cell_type": "code",
   "execution_count": 50,
   "id": "a436aa0e",
   "metadata": {},
   "outputs": [
    {
     "data": {
      "text/plain": [
       "14.900383823309184"
      ]
     },
     "execution_count": 50,
     "metadata": {},
     "output_type": "execute_result"
    }
   ],
   "source": [
    "np.mean(mean_of_samples)+margin_of_error"
   ]
  },
  {
   "cell_type": "markdown",
   "id": "54428e44",
   "metadata": {},
   "source": [
    "## Z-Test \n",
    "### We use a z-test when we have a large sample size and want to test a hypothesis about the mean of a population. For example, suppose we want to determine whether a new weight loss program is effective. We take a random sample of 100 people and measure their weight before and after the program. We want to know if the program has led to a significant reduction in weight"
   ]
  },
  {
   "cell_type": "code",
   "execution_count": 51,
   "id": "3eec331c",
   "metadata": {},
   "outputs": [],
   "source": [
    "from numpy.random import randn\n",
    "population_data=randn(1000)"
   ]
  },
  {
   "cell_type": "code",
   "execution_count": 52,
   "id": "482155d6",
   "metadata": {},
   "outputs": [
    {
     "data": {
      "text/plain": [
       "array([-1.58599515e+00, -1.43794315e+00, -5.35947246e-01, -2.73009634e-01,\n",
       "       -8.66796460e-01,  8.34440269e-01, -4.11566701e-01, -1.31874252e+00,\n",
       "        7.32343317e-01, -1.43493147e-02, -7.48418333e-01,  6.80229993e-03,\n",
       "        8.85191997e-01,  6.68931173e-01, -1.32843631e-01,  1.00195572e-01,\n",
       "       -1.25898239e-01, -2.07897230e+00,  6.20149730e-01, -4.91129207e-01,\n",
       "        5.27465613e-01, -1.89640623e+00, -9.07486088e-01, -6.82926263e-01,\n",
       "        4.34745598e-01,  2.54812802e-01, -9.12352119e-01, -1.34623841e-01,\n",
       "       -2.42992819e-01,  1.36129769e-01, -6.45672101e-01,  1.83837131e-01,\n",
       "       -4.80976608e-02,  6.92531887e-01, -2.52009444e-01, -1.39580018e+00,\n",
       "        1.00276164e+00, -1.33721923e+00, -3.05835859e-01,  1.72136280e-02,\n",
       "        5.88863438e-01, -7.25806145e-01, -1.11701678e+00, -1.32404556e+00,\n",
       "       -1.35427641e+00, -5.61929212e-01, -3.37216623e-01,  9.27790873e-02,\n",
       "       -8.41559375e-01,  1.07830282e+00,  8.18360372e-01, -6.83875958e-01,\n",
       "        6.55802431e-02, -4.19672037e-03, -5.79926249e-01,  2.26720793e+00,\n",
       "        1.19497150e+00, -3.42286110e-01,  1.53189789e+00, -6.03872380e-02,\n",
       "        1.39740668e+00,  1.01089583e+00,  1.81389004e-01,  8.94562861e-01,\n",
       "       -1.26207820e+00,  9.94307801e-01,  4.60933521e-01, -5.96462840e-01,\n",
       "       -5.81834258e-01,  1.48148855e+00, -3.63046058e-01,  9.11255351e-01,\n",
       "       -4.89934579e-02, -1.14390773e+00, -1.46669583e+00,  6.89404488e-01,\n",
       "        3.11522292e-01,  1.95939967e+00, -1.20710541e+00, -1.91184004e-01,\n",
       "        2.85668994e-01,  4.65206491e-01,  1.31511233e+00, -5.83339789e-01,\n",
       "       -9.61512374e-01,  1.22442328e+00,  1.68522209e+00,  1.19843219e-01,\n",
       "        2.97144527e+00, -1.64439976e-01,  3.86547233e-01, -7.98860590e-01,\n",
       "       -2.20788029e+00, -1.52596953e+00,  8.09491013e-01, -5.49110532e-01,\n",
       "        7.66767349e-01, -4.86570081e-01,  1.40867239e-01,  1.65004205e-01,\n",
       "        1.98913133e+00,  1.72111919e-01, -1.34595859e+00,  6.28276361e-01,\n",
       "        5.17833800e-01,  1.73952232e-01,  3.00229694e-01,  1.02716995e+00,\n",
       "       -2.97822391e-01,  1.50058856e+00,  2.47687465e-01, -5.31192029e-01,\n",
       "       -6.57547833e-01,  3.49222132e-01, -1.29727006e+00,  3.41229916e-01,\n",
       "        1.30268052e+00,  9.63027482e-01, -5.20186195e-01, -7.72220345e-01,\n",
       "        4.41467722e-03, -6.37562017e-02,  4.55905988e-01, -1.75437501e+00,\n",
       "       -1.53780451e+00, -1.48029460e+00, -1.25418439e+00, -1.17847028e+00,\n",
       "       -4.80720037e-01,  2.14816048e-01, -8.47813012e-01, -5.11546134e-01,\n",
       "        3.29930005e-01,  1.03844761e+00, -5.42794848e-01,  1.98388663e-02,\n",
       "        6.23442057e-01, -1.16513490e-01, -4.42872868e-01, -1.09806175e-01,\n",
       "       -1.92375495e+00,  6.82858369e-01, -1.40880669e+00, -2.90720552e-01,\n",
       "        2.58502026e-01,  1.71682915e+00, -1.52496416e+00,  2.86860109e-01,\n",
       "        1.18895241e-01, -2.39661871e-01,  3.23672401e-01, -1.13314897e+00,\n",
       "       -1.40345298e+00, -8.65664933e-01,  8.58184495e-01,  9.37221933e-02,\n",
       "       -7.09374820e-01, -1.15814894e+00, -1.17064481e+00,  8.74577734e-02,\n",
       "       -1.40219682e+00,  6.89406295e-01, -2.88445009e-01, -6.89268867e-01,\n",
       "        1.15701379e+00,  1.08940647e+00,  2.02909865e+00,  5.84011920e-01,\n",
       "        1.33153032e-01,  1.42467557e+00, -3.61739048e-01,  1.07928101e+00,\n",
       "       -9.28301670e-01,  1.20789656e+00,  3.05368864e-01,  5.39509578e-01,\n",
       "        5.78960239e-01, -6.24017633e-01, -3.45736486e-01,  1.53030195e+00,\n",
       "        4.60035929e-01, -4.04914380e-01, -7.15977665e-01,  1.08879298e+00,\n",
       "       -9.96857054e-02, -1.43190190e-01, -1.83858322e+00,  6.03145688e-01,\n",
       "       -1.28770251e+00, -4.73698756e-01,  5.81638190e-01, -1.76550473e+00,\n",
       "        3.00437793e-01, -2.27849979e+00, -9.67664542e-01,  1.07462893e+00,\n",
       "       -4.07895287e-01,  7.68881514e-01, -2.42421259e-01, -3.34918545e-01,\n",
       "        1.30056244e+00,  1.89457267e+00, -4.82675181e-02,  1.89673506e+00,\n",
       "       -1.26873734e-01, -3.24126421e-01, -3.28214930e-01, -1.44958846e+00,\n",
       "        5.12210330e-02, -4.69064849e-01, -3.28245190e-02,  1.12594397e+00,\n",
       "       -1.05375152e+00,  2.57104149e-01, -4.13875442e-01,  8.21084096e-01,\n",
       "       -9.36415343e-01, -1.95789051e+00, -1.62698583e+00,  4.38738101e-01,\n",
       "       -1.90291457e+00, -1.04776658e+00,  2.34906589e-01, -1.38948487e+00,\n",
       "       -7.93497311e-01, -6.51397904e-01,  8.34884792e-01,  1.10498336e+00,\n",
       "        7.36721343e-01,  5.51762822e-01,  1.42570773e-01, -5.03284022e-01,\n",
       "       -7.17787567e-01,  7.60312726e-01, -5.57820213e-01,  1.06313755e-01,\n",
       "        9.07031155e-01,  5.13970470e-01, -1.22707855e+00, -5.23959531e-01,\n",
       "        1.23683137e-01, -4.35582541e-01,  8.18606265e-01,  1.15172955e+00,\n",
       "       -1.86131794e-01,  1.21166217e+00, -9.01422195e-01, -3.40270899e-01,\n",
       "        8.60827000e-01, -1.18736016e+00, -5.17118743e-01,  2.04847223e+00,\n",
       "       -8.51018439e-01, -1.58345803e+00, -2.32565390e+00, -3.55833092e-01,\n",
       "       -9.57672685e-01, -2.73360363e-01, -2.72093489e-01, -4.04879349e-01,\n",
       "        6.26710532e-01, -1.06441949e+00, -1.15928607e-01, -2.29198718e-01,\n",
       "        2.68316161e+00, -9.38793570e-02, -2.76000106e-01,  3.23990548e-02,\n",
       "       -1.10901569e+00, -8.28076916e-01, -1.00040231e-01, -1.33146559e+00,\n",
       "       -2.85580051e-02, -8.01893953e-02,  7.54919624e-01,  1.46113346e+00,\n",
       "        3.61992757e-01, -5.00372371e-01,  1.39467878e+00, -9.95731633e-01,\n",
       "       -8.75621666e-01,  7.90297576e-01,  1.00497278e+00, -1.20363746e+00,\n",
       "        5.64721733e-01, -2.86714042e-01,  5.49473993e-01, -1.45233733e-01,\n",
       "        6.60189565e-01,  1.08848344e+00,  1.60381941e-01,  2.36577752e-01,\n",
       "        2.06463112e-01, -1.15860023e+00, -7.48654763e-01, -8.24670614e-01,\n",
       "       -3.47554735e-01,  1.19141551e+00,  1.39464645e+00,  1.99716329e+00,\n",
       "       -1.37726711e+00,  2.18571527e-01, -4.54411806e-02, -8.76841381e-01,\n",
       "       -4.54008915e-01,  1.88104624e+00, -1.03161570e+00,  1.09140104e+00,\n",
       "       -5.02289045e-01, -8.66627613e-02,  9.95588700e-01, -1.23822381e-03,\n",
       "        3.10743689e-01, -7.76185404e-01,  9.31594443e-01, -7.92405128e-01,\n",
       "       -1.92336857e-01, -8.71872271e-01,  2.76555073e-02, -1.24415898e+00,\n",
       "        5.35479662e-01,  3.01449465e-01,  1.01093726e+00,  8.51179119e-01,\n",
       "        1.45940449e+00, -7.76957429e-01, -1.78501171e-02, -2.85445690e-01,\n",
       "        4.93742686e-01,  1.49971808e+00,  1.04825127e+00, -4.43846543e-01,\n",
       "       -7.56653373e-01,  1.41215440e+00, -1.15119865e+00,  2.49909214e-01,\n",
       "       -8.97954659e-01,  4.03473502e-01,  3.54275092e-01, -1.17799982e+00,\n",
       "       -4.59775373e-01,  6.21316675e-02, -8.17760781e-01,  7.56161611e-01,\n",
       "       -1.27585384e-02, -8.79258837e-01,  1.33191011e+00, -9.94269220e-01,\n",
       "        1.64182246e+00,  9.46563441e-02,  6.94789672e-02, -8.77526075e-01,\n",
       "       -1.02364008e+00, -5.13577381e-01,  1.29784657e+00, -1.34639641e-01,\n",
       "        1.27844447e+00, -2.47277681e-01, -6.10349381e-01, -1.30489875e+00,\n",
       "       -1.75282559e+00,  4.24374871e-01, -3.40350298e-01,  1.11694659e+00,\n",
       "        2.32022606e-01,  4.53503389e-01, -8.49160293e-01,  4.15512484e-01,\n",
       "       -1.35902379e+00,  8.34339527e-01, -1.24602850e-01, -1.43065565e+00,\n",
       "        3.02807806e-01,  2.59943220e+00,  1.82372357e+00,  4.13737546e-01,\n",
       "       -8.94075053e-02,  1.22106927e+00, -1.97344319e-01, -1.02725781e+00,\n",
       "        1.81371657e-01, -4.41262738e-01,  1.17284904e+00, -1.71556991e-01,\n",
       "        1.61217337e-01, -7.28377029e-03, -1.31040554e+00,  2.32017234e+00,\n",
       "        2.02188652e+00,  4.56163945e-02, -4.77903570e-01,  9.62612993e-02,\n",
       "       -4.73157250e-01, -8.51839495e-01, -2.38839861e+00, -1.11376410e+00,\n",
       "       -1.25407071e-01, -1.77610900e+00, -6.88722424e-01, -2.27819181e+00,\n",
       "       -3.52611889e-01,  2.94317112e-02, -1.46023727e-01,  1.75421486e+00,\n",
       "       -5.54814220e-01,  6.91804769e-01, -2.11752178e+00,  8.87954867e-02,\n",
       "        1.11605873e+00,  6.30122892e-01, -2.26439402e-01, -3.76290738e-01,\n",
       "        4.29155489e-01, -1.12876922e+00, -1.69988063e+00, -1.10041278e+00,\n",
       "        2.20977383e-01, -5.48620580e-01, -5.30343114e-01, -1.48740717e+00,\n",
       "       -1.71932070e-01, -3.98503756e-01,  3.51123881e-01,  2.56237889e+00,\n",
       "       -1.37241037e+00,  7.52125908e-01, -1.61101370e+00, -1.04374806e+00,\n",
       "       -1.42591774e+00, -7.69415180e-01, -2.22186428e-01,  7.91302920e-01,\n",
       "        1.40508348e+00, -8.04570713e-01, -4.42484210e-01, -1.57271194e+00,\n",
       "        4.75555094e-01,  3.78363476e-01, -5.67335688e-01, -9.91045087e-01,\n",
       "        3.36296437e-01,  4.88324484e-01, -1.60660650e-01,  5.72998571e-02,\n",
       "        2.23860082e-01, -6.58723352e-01,  1.88481214e+00,  1.32283488e+00,\n",
       "       -8.24884340e-01,  1.60716406e+00,  5.28009021e-01,  1.67263629e+00,\n",
       "        4.05245261e-01, -1.96630689e-01,  7.28941629e-01, -1.07224346e+00,\n",
       "        1.02012126e+00,  4.47183810e-01,  5.49477186e-01, -1.37165309e+00,\n",
       "        4.55458441e-01, -1.46964059e+00, -4.00210946e-01, -1.65686112e-01,\n",
       "       -2.57210941e-01, -1.85885837e+00,  2.08049973e+00, -1.15945241e+00,\n",
       "       -2.55592509e-01,  1.90129451e+00, -1.89350703e+00,  1.94628012e-03,\n",
       "        5.50233542e-01,  7.83258803e-01,  7.54079794e-01,  1.61279703e-01,\n",
       "        5.31840983e-01, -2.69471697e-01,  5.60383271e-01,  1.03476574e+00,\n",
       "        1.88710132e+00, -1.63101313e+00, -1.86459519e+00,  4.68663618e-01,\n",
       "        5.75045340e-01, -1.55985369e+00,  6.72239589e-01, -2.35510573e+00,\n",
       "       -2.15314225e-02, -9.97998312e-02, -1.69153144e+00,  1.12286842e+00,\n",
       "        1.19889494e+00, -1.51727103e-01, -4.11257769e-01, -5.96358576e-01,\n",
       "        1.04111395e+00, -4.06495179e-01,  1.27462102e+00, -1.82180684e+00,\n",
       "       -3.97006152e-01, -2.57841277e-01, -1.40153531e+00, -3.39826523e-01,\n",
       "       -9.98347539e-02,  9.94948750e-01, -1.48544028e+00,  9.90259964e-01,\n",
       "        4.71627735e-01, -1.14165369e+00,  1.80702262e-01,  5.84188470e-02,\n",
       "        1.95920287e-01, -1.00074209e+00,  4.71365369e-01, -1.40696232e+00,\n",
       "        1.89779222e-01, -1.16838537e+00, -5.97184675e-01,  4.24568610e-01,\n",
       "       -6.41495622e-01, -1.48231562e+00,  1.44012063e+00,  1.94457726e+00,\n",
       "       -1.24244289e+00,  7.44770770e-01, -2.94690169e-01, -5.18424587e-01,\n",
       "       -2.28791284e+00,  1.06362821e+00, -6.76159417e-02,  6.84656215e-01,\n",
       "       -1.36690804e-01, -2.96820869e-01, -3.44008167e-01, -9.59947273e-01,\n",
       "       -7.85353056e-01,  2.88586707e-01, -3.59698527e-01, -1.05952063e+00,\n",
       "        2.08475593e-01, -1.00656755e-01, -2.05795312e+00, -6.85381815e-02,\n",
       "        1.17088741e+00, -1.44312908e+00,  1.37087699e-01,  1.20337215e+00,\n",
       "        1.83954057e+00,  8.98428917e-01, -2.00925532e+00, -2.81885702e-01,\n",
       "       -1.61945062e+00, -6.59836188e-02, -1.03830828e-01,  2.04384484e+00,\n",
       "       -9.71258309e-01,  7.88665792e-01, -6.19330250e-01,  1.02612458e+00,\n",
       "       -1.87483538e-01, -1.03245302e+00, -1.13383780e+00, -8.94290794e-01,\n",
       "       -9.16474123e-01,  1.94463877e+00,  1.09237984e-01,  9.83455882e-01,\n",
       "       -4.36597382e-01, -1.15158545e+00, -7.92374923e-02, -8.38491908e-01,\n",
       "        2.11942865e+00, -4.58697723e-02, -4.37423916e-01, -5.66680196e-01,\n",
       "        3.86850006e-01,  5.52944740e-01,  2.04679083e-01, -3.05230296e-02,\n",
       "        7.89670799e-01, -8.20579978e-01, -1.41141110e+00, -3.07204027e-01,\n",
       "        6.50368354e-01, -1.26505733e+00, -2.44953893e-01, -7.15678127e-01,\n",
       "        9.31798472e-01, -1.57351288e+00,  1.90204973e-01,  9.35942099e-02,\n",
       "       -1.15402702e-01, -5.51617662e-01,  2.66914560e+00, -1.92816509e+00,\n",
       "       -1.36098808e-01, -1.08694348e-01,  1.34243121e+00,  2.08503381e+00,\n",
       "       -4.34944942e-01,  1.37405726e+00,  1.09243989e+00,  1.41500647e+00,\n",
       "        8.54623955e-01,  3.26531092e-01, -1.10190854e+00,  2.58131464e-02,\n",
       "       -8.00061879e-01,  1.53189329e+00, -5.89965074e-01,  2.89767883e-01,\n",
       "        2.00060148e+00, -3.69827387e-01,  1.47919602e+00, -4.44883500e-01,\n",
       "       -3.41770831e-01, -7.79393865e-01, -8.03634304e-01,  5.65419912e-01,\n",
       "       -2.55303415e+00, -1.43671071e+00, -6.82068772e-01, -1.77183538e+00,\n",
       "        4.42323198e-01,  1.58116535e+00, -1.12751844e+00,  1.15227650e-01,\n",
       "        6.75178320e-01, -2.28698775e-01, -5.75604142e-01,  4.10390748e-01,\n",
       "       -8.92773235e-01,  1.43120815e-01, -4.45521826e-02, -3.15920003e+00,\n",
       "       -2.32447022e+00,  6.13990936e-01,  1.60183011e+00,  2.89850712e-01,\n",
       "        7.54000665e-01, -4.27313787e-01,  5.89955988e-01,  2.30613625e-01,\n",
       "       -5.45146441e-01, -1.12189731e+00, -1.95201389e+00, -1.16737512e-02,\n",
       "       -1.28918321e+00, -2.29749211e+00,  4.53703993e-01,  1.26194404e-01,\n",
       "        3.10448494e-02,  9.23685342e-01, -6.52476517e-01,  2.04236163e-02,\n",
       "        1.75829328e-01,  3.91759288e-01,  2.52567910e-01, -1.49873123e-01,\n",
       "       -1.30997605e-01,  3.94184716e-01,  1.31897579e+00,  4.50016591e-02,\n",
       "       -8.33606135e-02,  7.49914158e-01,  5.82121100e-01,  2.38089490e+00,\n",
       "       -6.56521736e-01,  6.78629413e-02, -4.69487121e-01,  1.40373111e+00,\n",
       "       -3.03949905e-01, -3.94285544e-01, -1.19713561e+00, -3.50201849e-01,\n",
       "        4.26376398e-01,  1.36408604e-01, -1.07742616e+00,  8.61082441e-01,\n",
       "        8.39119506e-01,  4.17613759e-02, -5.39834103e-01,  1.60414659e+00,\n",
       "        3.28414113e-01, -7.57641653e-01,  2.77459960e-02,  1.34838611e-01,\n",
       "        4.37102897e-01,  2.27600073e-01,  2.97098509e-02, -1.00944396e+00,\n",
       "       -2.22985521e-01, -7.27486995e-01, -5.79433146e-01, -1.81548248e+00,\n",
       "       -8.56882860e-01,  1.60233495e+00, -5.33206419e-01, -4.44559165e-01,\n",
       "       -1.84821294e+00, -1.94428819e+00, -6.85399911e-01, -6.10048454e-01,\n",
       "       -8.55723421e-01, -1.31103367e-01, -6.69357503e-01,  5.97809577e-01,\n",
       "       -1.06571899e-01, -1.15671331e+00,  2.44819880e-01,  1.23352700e-01,\n",
       "       -1.68678910e+00, -2.68859167e-01,  3.44493377e-01,  1.78899323e-01,\n",
       "        1.62266651e+00,  9.62212585e-01,  6.77876459e-02, -5.05371724e-01,\n",
       "        6.88052469e-01,  8.19668649e-01,  1.11566836e+00, -9.68738915e-01,\n",
       "        1.05880975e+00,  9.39775929e-01, -5.97359680e-01, -1.15411428e+00,\n",
       "        4.86140158e-02, -3.65154834e-01, -3.39000768e-03,  2.57782817e-01,\n",
       "        2.77840454e-01, -9.97930893e-02,  1.50308632e+00, -2.79046697e-01,\n",
       "        7.08603109e-01, -4.46950352e-01,  1.89279282e+00, -9.17008093e-01,\n",
       "        8.37578845e-01,  2.33885035e+00, -2.14047312e-01,  4.71409504e-01,\n",
       "        1.11025662e+00, -2.13751073e+00,  4.17529103e-02,  6.75651111e-01,\n",
       "        9.72305569e-01, -1.70115877e-01, -2.63040343e-01, -1.51821584e+00,\n",
       "        3.51675286e-01, -9.92381356e-01,  2.16526715e+00, -3.43676963e-02,\n",
       "       -9.15647097e-01, -1.23130556e+00,  1.90594199e+00,  3.39351393e-01,\n",
       "       -1.02258981e+00,  2.06535244e+00,  1.57912511e+00,  3.48456075e-01,\n",
       "       -1.09419090e-01, -6.04467303e-01,  6.91044801e-01,  2.28238126e-01,\n",
       "       -2.90142531e-01, -6.08516545e-01, -6.91754461e-01,  4.98697954e-01,\n",
       "       -5.45051292e-01, -1.83490069e-01, -1.11969799e+00, -4.01264099e-01,\n",
       "        1.49256135e+00, -2.27214917e+00, -4.12005589e-01,  5.48041594e-01,\n",
       "        3.13817559e-01, -5.70564686e-01,  1.26939464e+00, -1.41072888e+00,\n",
       "        1.18649113e+00,  3.35453755e-01, -2.07600642e+00, -7.90393928e-01,\n",
       "        7.84862386e-01,  1.17783949e+00, -1.29403703e+00, -3.11578567e-02,\n",
       "        1.78618726e+00,  8.41547675e-01, -1.82370385e+00, -2.18239625e-01,\n",
       "        6.83587816e-01, -2.39526385e-01, -8.19575671e-02, -9.07795088e-01,\n",
       "       -1.80055364e+00, -7.38758319e-01,  2.61035630e-01, -3.33311066e-01,\n",
       "       -3.43645152e-01,  1.08658062e+00,  3.15258994e-01, -1.67430722e+00,\n",
       "        1.26773166e+00,  1.32066494e+00, -2.13569319e-01,  4.64313904e-02,\n",
       "       -8.05062805e-03, -1.07616262e+00, -5.87900800e-01,  5.50955569e-01,\n",
       "       -6.80437065e-02, -6.31161603e-03,  1.75269151e+00, -6.16791485e-01,\n",
       "        5.05992123e-01,  6.64325855e-01, -1.65212667e+00,  2.15892670e+00,\n",
       "       -6.20710618e-01, -1.34849171e+00,  1.91289075e+00, -6.08167064e-01,\n",
       "        9.63154044e-01,  2.96657487e-01, -2.09034323e+00, -6.18223861e-01,\n",
       "        4.56649670e-01, -1.25140259e+00,  9.03574978e-01, -6.40757930e-01,\n",
       "        6.06832425e-01, -7.46928774e-01, -7.18141455e-01,  1.49185460e+00,\n",
       "       -8.91423156e-01, -1.00391527e+00, -6.52948436e-01,  2.26385343e-01,\n",
       "        1.32249879e+00,  1.16833652e+00,  1.18476622e+00,  6.01604185e-01,\n",
       "        1.33884110e+00,  2.34127100e+00,  1.81639638e-01,  9.43516142e-01,\n",
       "       -1.79764221e-01,  1.14955609e+00, -5.36504343e-01, -1.04809937e+00,\n",
       "       -1.34390031e+00, -9.03857096e-01,  1.01323185e+00,  1.52909957e-01,\n",
       "       -3.55848514e-01, -9.30689601e-01, -4.94083437e-02, -8.98162527e-01,\n",
       "        1.64225212e-03, -8.72938329e-01, -1.53439278e+00,  5.76966099e-01,\n",
       "       -1.88079255e-01, -4.23413622e-01,  1.47076224e+00,  1.11230743e+00,\n",
       "        8.87300323e-01,  3.46913672e-01, -6.19657044e-01,  1.18496772e-01,\n",
       "       -8.40665642e-01,  1.27997355e+00,  1.07427897e+00,  3.81514792e-01,\n",
       "       -9.33089065e-01,  8.00249646e-01, -7.58714158e-01, -2.16506853e+00,\n",
       "       -2.68690128e-01,  2.84250881e-01, -1.53443582e+00, -7.91813638e-01,\n",
       "       -1.05990456e+00, -8.29037393e-01, -4.68857424e-02, -1.35805083e+00,\n",
       "       -1.55723655e+00, -4.30699311e-01,  1.19268085e+00,  1.12839006e-01,\n",
       "       -2.51900394e+00, -1.53577319e+00,  1.71601189e-01, -3.54291911e-01,\n",
       "       -5.27611438e-01, -7.10179324e-01,  1.18438341e-01, -5.00442620e-02,\n",
       "       -6.81575627e-01,  1.01486566e+00, -2.83911434e-01,  3.88128206e-01,\n",
       "       -1.99918664e+00,  1.79159394e+00,  6.54153860e-01, -7.80735354e-02,\n",
       "       -6.24095263e-01,  5.56765073e-01, -2.72999931e-01,  8.85956487e-01,\n",
       "       -1.37535151e+00, -2.45196923e-02,  5.03587786e-01,  1.43744488e+00,\n",
       "       -1.78957590e+00,  6.71683712e-01,  4.51996523e-01, -6.31896033e-01,\n",
       "       -6.65349146e-01, -3.17198835e-01,  2.95637631e-01,  1.95300038e+00,\n",
       "       -8.60448976e-01,  1.10747135e+00, -2.25212068e-01,  3.33196519e-01,\n",
       "        6.47551927e-01,  3.68963703e-01,  2.36044067e-01, -7.06037048e-01,\n",
       "        5.35435312e-02, -4.86142256e-02,  1.03006662e-01, -3.46899689e-01,\n",
       "        1.18966830e+00,  1.03254078e+00,  1.99817581e-01, -1.14756471e+00,\n",
       "       -1.43739144e-01,  1.95083486e+00, -2.40714359e+00,  1.26680347e-02,\n",
       "        9.63091451e-01, -3.75746232e-01,  5.82676683e-01,  1.86759218e-01,\n",
       "       -1.05174875e+00,  4.44840572e-01, -1.23570855e+00,  1.23303271e-01,\n",
       "        2.51244920e-01, -2.50547607e-01,  9.58419045e-01,  4.14091350e-01,\n",
       "        2.42416319e+00, -9.67589080e-01,  2.44403526e+00, -9.08468473e-02,\n",
       "        2.67862754e-01,  3.49460809e-01, -1.07992904e-02,  4.71034332e-01,\n",
       "       -7.56187229e-01,  4.02612314e-01, -2.15875363e+00, -1.18448865e+00,\n",
       "       -7.25076588e-02, -5.96579056e-01,  2.42282041e-01,  5.08015464e-01,\n",
       "       -1.39856519e+00,  2.01770022e-01, -5.14884317e-01,  8.35962007e-01,\n",
       "        5.87642239e-01,  1.37550055e-01,  9.73202277e-02, -8.59519804e-02,\n",
       "        4.06556294e-01,  9.42285191e-01, -4.98901745e-01, -1.09756325e-01,\n",
       "       -1.41863410e+00,  1.19717916e+00,  4.37428938e-01,  1.24160513e+00,\n",
       "       -9.03869412e-02,  1.31303764e+00,  1.06338744e+00,  4.47150226e-01,\n",
       "        1.34601501e+00, -2.79500016e-01, -1.15632662e+00,  2.60271583e-01])"
      ]
     },
     "execution_count": 52,
     "metadata": {},
     "output_type": "execute_result"
    }
   ],
   "source": [
    "population_data"
   ]
  },
  {
   "cell_type": "code",
   "execution_count": 53,
   "id": "f423bb54",
   "metadata": {},
   "outputs": [],
   "source": [
    "import seaborn as sns\n",
    "sns.set(rc={'figure.figsize':(5,3)})"
   ]
  },
  {
   "cell_type": "code",
   "execution_count": 54,
   "id": "91945593",
   "metadata": {
    "scrolled": true
   },
   "outputs": [
    {
     "data": {
      "text/plain": [
       "<AxesSubplot: ylabel='Density'>"
      ]
     },
     "execution_count": 54,
     "metadata": {},
     "output_type": "execute_result"
    },
    {
     "data": {
      "image/png": "[encoded data removed]",
      "text/plain": [
       "<Figure size 500x300 with 1 Axes>"
      ]
     },
     "metadata": {},
     "output_type": "display_data"
    }
   ],
   "source": [
    "sns.distplot(population_data)"
   ]
  },
  {
   "cell_type": "code",
   "execution_count": 55,
   "id": "85bb299b",
   "metadata": {},
   "outputs": [
    {
     "name": "stdout",
     "output_type": "stream",
     "text": [
      "Here is a mean of population:-0.04657777725491052,Here is a std dev0.9900496835345605\n"
     ]
    }
   ],
   "source": [
    "print(f\"Here is a mean of population:{np.mean(population_data)},Here is a std dev{np.std(population_data)}\")"
   ]
  },
  {
   "cell_type": "code",
   "execution_count": 56,
   "id": "cc1708c9",
   "metadata": {},
   "outputs": [],
   "source": [
    "null_mean=0.014915064984677042"
   ]
  },
  {
   "cell_type": "markdown",
   "id": "a032b523",
   "metadata": {},
   "source": [
    "**C.I=95%\n",
    "alpha=0.05**"
   ]
  },
  {
   "cell_type": "markdown",
   "id": "6a2a435d",
   "metadata": {},
   "source": [
    "**P<=0.050#Reject the null Hypothesis\n",
    "P>=0.05# you are going to accept the null hypothesis**"
   ]
  },
  {
   "cell_type": "markdown",
   "id": "830cb473",
   "metadata": {},
   "source": [
    "**P=<=ALPHA,\n",
    "P>ALPHA**"
   ]
  },
  {
   "cell_type": "code",
   "execution_count": 57,
   "id": "ec2e1db2",
   "metadata": {},
   "outputs": [],
   "source": [
    "ALPHA=0.05\n",
    "#p_value=0.050"
   ]
  },
  {
   "cell_type": "code",
   "execution_count": 58,
   "id": "a83ff6f4",
   "metadata": {},
   "outputs": [],
   "source": [
    "from statsmodels.stats.weightstats import ztest\n",
    "z_score,p_value=ztest(population_data,value=null_mean,alternative=\"larger\")"
   ]
  },
  {
   "cell_type": "code",
   "execution_count": 59,
   "id": "48e09966",
   "metadata": {},
   "outputs": [
    {
     "data": {
      "text/plain": [
       "-1.9631357038633195"
      ]
     },
     "execution_count": 59,
     "metadata": {},
     "output_type": "execute_result"
    }
   ],
   "source": [
    "z_score"
   ]
  },
  {
   "cell_type": "code",
   "execution_count": 60,
   "id": "2fe67cee",
   "metadata": {},
   "outputs": [
    {
     "data": {
      "text/plain": [
       "0.9751847960635582"
      ]
     },
     "execution_count": 60,
     "metadata": {},
     "output_type": "execute_result"
    }
   ],
   "source": [
    "p_value"
   ]
  },
  {
   "cell_type": "code",
   "execution_count": 61,
   "id": "83c88c31",
   "metadata": {},
   "outputs": [
    {
     "name": "stdout",
     "output_type": "stream",
     "text": [
      "we are going to accept the null hypothesis\n"
     ]
    }
   ],
   "source": [
    "if (p_value<ALPHA):\n",
    "    print(\"Reject the null hypothesis\")\n",
    "else:\n",
    "    print(\"we are going to accept the null hypothesis\")"
   ]
  },
  {
   "cell_type": "code",
   "execution_count": 62,
   "id": "78b3de37",
   "metadata": {},
   "outputs": [
    {
     "data": {
      "text/plain": [
       "0.9751847960635582"
      ]
     },
     "execution_count": 62,
     "metadata": {},
     "output_type": "execute_result"
    }
   ],
   "source": [
    "p_value"
   ]
  },
  {
   "cell_type": "markdown",
   "id": "091dda38",
   "metadata": {},
   "source": [
    "**1.How to check the normality of data.\n",
    "2.z test.\n",
    "3.T test.\n",
    "4.chi sqare test.\n",
    "5.Anova Test**"
   ]
  },
  {
   "cell_type": "markdown",
   "id": "7984b1ea",
   "metadata": {},
   "source": [
    "**Checking the normality  of data  using shapiro test**"
   ]
  },
  {
   "cell_type": "code",
   "execution_count": 63,
   "id": "f9254cb1",
   "metadata": {},
   "outputs": [],
   "source": [
    "import pandas as pd\n",
    "data=pd.read_csv(\"https://raw.githubusercontent.com/shrikant-temburwar/Wine-Quality-Dataset/master/winequality-red.csv\",sep=';')"
   ]
  },
  {
   "cell_type": "code",
   "execution_count": 64,
   "id": "6b5d7b1c",
   "metadata": {},
   "outputs": [
    {
     "data": {
      "text/html": [
       "<div>\n",
       "<style scoped>\n",
       "    .dataframe tbody tr th:only-of-type {\n",
       "        vertical-align: middle;\n",
       "    }\n",
       "\n",
       "    .dataframe tbody tr th {\n",
       "        vertical-align: top;\n",
       "    }\n",
       "\n",
       "    .dataframe thead th {\n",
       "        text-align: right;\n",
       "    }\n",
       "</style>\n",
       "<table border=\"1\" class=\"dataframe\">\n",
       "  <thead>\n",
       "    <tr style=\"text-align: right;\">\n",
       "      <th></th>\n",
       "      <th>fixed acidity</th>\n",
       "      <th>volatile acidity</th>\n",
       "      <th>citric acid</th>\n",
       "      <th>residual sugar</th>\n",
       "      <th>chlorides</th>\n",
       "      <th>free sulfur dioxide</th>\n",
       "      <th>total sulfur dioxide</th>\n",
       "      <th>density</th>\n",
       "      <th>pH</th>\n",
       "      <th>sulphates</th>\n",
       "      <th>alcohol</th>\n",
       "      <th>quality</th>\n",
       "    </tr>\n",
       "  </thead>\n",
       "  <tbody>\n",
       "    <tr>\n",
       "      <th>0</th>\n",
       "      <td>7.4</td>\n",
       "      <td>0.700</td>\n",
       "      <td>0.00</td>\n",
       "      <td>1.9</td>\n",
       "      <td>0.076</td>\n",
       "      <td>11.0</td>\n",
       "      <td>34.0</td>\n",
       "      <td>0.99780</td>\n",
       "      <td>3.51</td>\n",
       "      <td>0.56</td>\n",
       "      <td>9.4</td>\n",
       "      <td>5</td>\n",
       "    </tr>\n",
       "    <tr>\n",
       "      <th>1</th>\n",
       "      <td>7.8</td>\n",
       "      <td>0.880</td>\n",
       "      <td>0.00</td>\n",
       "      <td>2.6</td>\n",
       "      <td>0.098</td>\n",
       "      <td>25.0</td>\n",
       "      <td>67.0</td>\n",
       "      <td>0.99680</td>\n",
       "      <td>3.20</td>\n",
       "      <td>0.68</td>\n",
       "      <td>9.8</td>\n",
       "      <td>5</td>\n",
       "    </tr>\n",
       "    <tr>\n",
       "      <th>2</th>\n",
       "      <td>7.8</td>\n",
       "      <td>0.760</td>\n",
       "      <td>0.04</td>\n",
       "      <td>2.3</td>\n",
       "      <td>0.092</td>\n",
       "      <td>15.0</td>\n",
       "      <td>54.0</td>\n",
       "      <td>0.99700</td>\n",
       "      <td>3.26</td>\n",
       "      <td>0.65</td>\n",
       "      <td>9.8</td>\n",
       "      <td>5</td>\n",
       "    </tr>\n",
       "    <tr>\n",
       "      <th>3</th>\n",
       "      <td>11.2</td>\n",
       "      <td>0.280</td>\n",
       "      <td>0.56</td>\n",
       "      <td>1.9</td>\n",
       "      <td>0.075</td>\n",
       "      <td>17.0</td>\n",
       "      <td>60.0</td>\n",
       "      <td>0.99800</td>\n",
       "      <td>3.16</td>\n",
       "      <td>0.58</td>\n",
       "      <td>9.8</td>\n",
       "      <td>6</td>\n",
       "    </tr>\n",
       "    <tr>\n",
       "      <th>4</th>\n",
       "      <td>7.4</td>\n",
       "      <td>0.700</td>\n",
       "      <td>0.00</td>\n",
       "      <td>1.9</td>\n",
       "      <td>0.076</td>\n",
       "      <td>11.0</td>\n",
       "      <td>34.0</td>\n",
       "      <td>0.99780</td>\n",
       "      <td>3.51</td>\n",
       "      <td>0.56</td>\n",
       "      <td>9.4</td>\n",
       "      <td>5</td>\n",
       "    </tr>\n",
       "    <tr>\n",
       "      <th>...</th>\n",
       "      <td>...</td>\n",
       "      <td>...</td>\n",
       "      <td>...</td>\n",
       "      <td>...</td>\n",
       "      <td>...</td>\n",
       "      <td>...</td>\n",
       "      <td>...</td>\n",
       "      <td>...</td>\n",
       "      <td>...</td>\n",
       "      <td>...</td>\n",
       "      <td>...</td>\n",
       "      <td>...</td>\n",
       "    </tr>\n",
       "    <tr>\n",
       "      <th>1594</th>\n",
       "      <td>6.2</td>\n",
       "      <td>0.600</td>\n",
       "      <td>0.08</td>\n",
       "      <td>2.0</td>\n",
       "      <td>0.090</td>\n",
       "      <td>32.0</td>\n",
       "      <td>44.0</td>\n",
       "      <td>0.99490</td>\n",
       "      <td>3.45</td>\n",
       "      <td>0.58</td>\n",
       "      <td>10.5</td>\n",
       "      <td>5</td>\n",
       "    </tr>\n",
       "    <tr>\n",
       "      <th>1595</th>\n",
       "      <td>5.9</td>\n",
       "      <td>0.550</td>\n",
       "      <td>0.10</td>\n",
       "      <td>2.2</td>\n",
       "      <td>0.062</td>\n",
       "      <td>39.0</td>\n",
       "      <td>51.0</td>\n",
       "      <td>0.99512</td>\n",
       "      <td>3.52</td>\n",
       "      <td>0.76</td>\n",
       "      <td>11.2</td>\n",
       "      <td>6</td>\n",
       "    </tr>\n",
       "    <tr>\n",
       "      <th>1596</th>\n",
       "      <td>6.3</td>\n",
       "      <td>0.510</td>\n",
       "      <td>0.13</td>\n",
       "      <td>2.3</td>\n",
       "      <td>0.076</td>\n",
       "      <td>29.0</td>\n",
       "      <td>40.0</td>\n",
       "      <td>0.99574</td>\n",
       "      <td>3.42</td>\n",
       "      <td>0.75</td>\n",
       "      <td>11.0</td>\n",
       "      <td>6</td>\n",
       "    </tr>\n",
       "    <tr>\n",
       "      <th>1597</th>\n",
       "      <td>5.9</td>\n",
       "      <td>0.645</td>\n",
       "      <td>0.12</td>\n",
       "      <td>2.0</td>\n",
       "      <td>0.075</td>\n",
       "      <td>32.0</td>\n",
       "      <td>44.0</td>\n",
       "      <td>0.99547</td>\n",
       "      <td>3.57</td>\n",
       "      <td>0.71</td>\n",
       "      <td>10.2</td>\n",
       "      <td>5</td>\n",
       "    </tr>\n",
       "    <tr>\n",
       "      <th>1598</th>\n",
       "      <td>6.0</td>\n",
       "      <td>0.310</td>\n",
       "      <td>0.47</td>\n",
       "      <td>3.6</td>\n",
       "      <td>0.067</td>\n",
       "      <td>18.0</td>\n",
       "      <td>42.0</td>\n",
       "      <td>0.99549</td>\n",
       "      <td>3.39</td>\n",
       "      <td>0.66</td>\n",
       "      <td>11.0</td>\n",
       "      <td>6</td>\n",
       "    </tr>\n",
       "  </tbody>\n",
       "</table>\n",
       "<p>1599 rows × 12 columns</p>\n",
       "</div>"
      ],
      "text/plain": [
       "      fixed acidity  volatile acidity  citric acid  residual sugar  chlorides  \\\n",
       "0               7.4             0.700         0.00             1.9      0.076   \n",
       "1               7.8             0.880         0.00             2.6      0.098   \n",
       "2               7.8             0.760         0.04             2.3      0.092   \n",
       "3              11.2             0.280         0.56             1.9      0.075   \n",
       "4               7.4             0.700         0.00             1.9      0.076   \n",
       "...             ...               ...          ...             ...        ...   \n",
       "1594            6.2             0.600         0.08             2.0      0.090   \n",
       "1595            5.9             0.550         0.10             2.2      0.062   \n",
       "1596            6.3             0.510         0.13             2.3      0.076   \n",
       "1597            5.9             0.645         0.12             2.0      0.075   \n",
       "1598            6.0             0.310         0.47             3.6      0.067   \n",
       "\n",
       "      free sulfur dioxide  total sulfur dioxide  density    pH  sulphates  \\\n",
       "0                    11.0                  34.0  0.99780  3.51       0.56   \n",
       "1                    25.0                  67.0  0.99680  3.20       0.68   \n",
       "2                    15.0                  54.0  0.99700  3.26       0.65   \n",
       "3                    17.0                  60.0  0.99800  3.16       0.58   \n",
       "4                    11.0                  34.0  0.99780  3.51       0.56   \n",
       "...                   ...                   ...      ...   ...        ...   \n",
       "1594                 32.0                  44.0  0.99490  3.45       0.58   \n",
       "1595                 39.0                  51.0  0.99512  3.52       0.76   \n",
       "1596                 29.0                  40.0  0.99574  3.42       0.75   \n",
       "1597                 32.0                  44.0  0.99547  3.57       0.71   \n",
       "1598                 18.0                  42.0  0.99549  3.39       0.66   \n",
       "\n",
       "      alcohol  quality  \n",
       "0         9.4        5  \n",
       "1         9.8        5  \n",
       "2         9.8        5  \n",
       "3         9.8        6  \n",
       "4         9.4        5  \n",
       "...       ...      ...  \n",
       "1594     10.5        5  \n",
       "1595     11.2        6  \n",
       "1596     11.0        6  \n",
       "1597     10.2        5  \n",
       "1598     11.0        6  \n",
       "\n",
       "[1599 rows x 12 columns]"
      ]
     },
     "execution_count": 64,
     "metadata": {},
     "output_type": "execute_result"
    }
   ],
   "source": [
    "data"
   ]
  },
  {
   "cell_type": "code",
   "execution_count": 65,
   "id": "a5ee5ad8",
   "metadata": {},
   "outputs": [
    {
     "data": {
      "text/html": [
       "<div>\n",
       "<style scoped>\n",
       "    .dataframe tbody tr th:only-of-type {\n",
       "        vertical-align: middle;\n",
       "    }\n",
       "\n",
       "    .dataframe tbody tr th {\n",
       "        vertical-align: top;\n",
       "    }\n",
       "\n",
       "    .dataframe thead th {\n",
       "        text-align: right;\n",
       "    }\n",
       "</style>\n",
       "<table border=\"1\" class=\"dataframe\">\n",
       "  <thead>\n",
       "    <tr style=\"text-align: right;\">\n",
       "      <th></th>\n",
       "      <th>fixed acidity</th>\n",
       "      <th>volatile acidity</th>\n",
       "      <th>citric acid</th>\n",
       "      <th>residual sugar</th>\n",
       "      <th>chlorides</th>\n",
       "      <th>free sulfur dioxide</th>\n",
       "      <th>total sulfur dioxide</th>\n",
       "      <th>density</th>\n",
       "      <th>pH</th>\n",
       "      <th>sulphates</th>\n",
       "      <th>alcohol</th>\n",
       "      <th>quality</th>\n",
       "    </tr>\n",
       "  </thead>\n",
       "  <tbody>\n",
       "    <tr>\n",
       "      <th>0</th>\n",
       "      <td>7.4</td>\n",
       "      <td>0.7</td>\n",
       "      <td>0.0</td>\n",
       "      <td>1.9</td>\n",
       "      <td>0.076</td>\n",
       "      <td>11.0</td>\n",
       "      <td>34.0</td>\n",
       "      <td>0.9978</td>\n",
       "      <td>3.51</td>\n",
       "      <td>0.56</td>\n",
       "      <td>9.4</td>\n",
       "      <td>5</td>\n",
       "    </tr>\n",
       "  </tbody>\n",
       "</table>\n",
       "</div>"
      ],
      "text/plain": [
       "   fixed acidity  volatile acidity  citric acid  residual sugar  chlorides  \\\n",
       "0            7.4               0.7          0.0             1.9      0.076   \n",
       "\n",
       "   free sulfur dioxide  total sulfur dioxide  density    pH  sulphates  \\\n",
       "0                 11.0                  34.0   0.9978  3.51       0.56   \n",
       "\n",
       "   alcohol  quality  \n",
       "0      9.4        5  "
      ]
     },
     "execution_count": 65,
     "metadata": {},
     "output_type": "execute_result"
    }
   ],
   "source": [
    "data.head(1)"
   ]
  },
  {
   "cell_type": "code",
   "execution_count": 66,
   "id": "841f003c",
   "metadata": {},
   "outputs": [
    {
     "data": {
      "text/plain": [
       "0       0.700\n",
       "1       0.880\n",
       "2       0.760\n",
       "3       0.280\n",
       "4       0.700\n",
       "        ...  \n",
       "1594    0.600\n",
       "1595    0.550\n",
       "1596    0.510\n",
       "1597    0.645\n",
       "1598    0.310\n",
       "Name: volatile acidity, Length: 1599, dtype: float64"
      ]
     },
     "execution_count": 66,
     "metadata": {},
     "output_type": "execute_result"
    }
   ],
   "source": [
    "data['volatile acidity']"
   ]
  },
  {
   "cell_type": "code",
   "execution_count": 67,
   "id": "07181662",
   "metadata": {},
   "outputs": [],
   "source": [
    "import seaborn as sns\n"
   ]
  },
  {
   "cell_type": "code",
   "execution_count": 68,
   "id": "a4526f66",
   "metadata": {},
   "outputs": [
    {
     "data": {
      "text/plain": [
       "<AxesSubplot: xlabel='volatile acidity', ylabel='Density'>"
      ]
     },
     "execution_count": 68,
     "metadata": {},
     "output_type": "execute_result"
    },
    {
     "data": {
      "image/png": "[encoded data removed]",
      "text/plain": [
       "<Figure size 500x300 with 1 Axes>"
      ]
     },
     "metadata": {},
     "output_type": "display_data"
    }
   ],
   "source": [
    "sns.distplot(data['volatile acidity'],kde=True)"
   ]
  },
  {
   "cell_type": "markdown",
   "id": "feebc130",
   "metadata": {},
   "source": [
    "**Checking the normality  of data  using shapiro test// H0=is greater then 0.05**"
   ]
  },
  {
   "cell_type": "code",
   "execution_count": 69,
   "id": "11de6019",
   "metadata": {
    "scrolled": true
   },
   "outputs": [
    {
     "data": {
      "text/plain": [
       "<AxesSubplot: xlabel='citric acid', ylabel='Density'>"
      ]
     },
     "execution_count": 69,
     "metadata": {},
     "output_type": "execute_result"
    },
    {
     "data": {
      "image/png": "[encoded data removed]",
      "text/plain": [
       "<Figure size 500x300 with 1 Axes>"
      ]
     },
     "metadata": {},
     "output_type": "display_data"
    }
   ],
   "source": [
    "sns.distplot(data['citric acid'],kde=True,color='red')"
   ]
  },
  {
   "cell_type": "code",
   "execution_count": 70,
   "id": "7528978d",
   "metadata": {},
   "outputs": [
    {
     "data": {
      "text/plain": [
       "ShapiroResult(statistic=0.9743338823318481, pvalue=2.686385373947307e-16)"
      ]
     },
     "execution_count": 70,
     "metadata": {},
     "output_type": "execute_result"
    }
   ],
   "source": [
    "from scipy import stats\n",
    "stats.shapiro(data['volatile acidity'])"
   ]
  },
  {
   "cell_type": "code",
   "execution_count": 71,
   "id": "96abeab1",
   "metadata": {},
   "outputs": [
    {
     "data": {
      "text/plain": [
       "ShapiroResult(statistic=0.955294668674469, pvalue=1.0233944777578548e-21)"
      ]
     },
     "execution_count": 71,
     "metadata": {},
     "output_type": "execute_result"
    }
   ],
   "source": [
    "stats.shapiro(data['citric acid'])"
   ]
  },
  {
   "cell_type": "markdown",
   "id": "8bb22541",
   "metadata": {},
   "source": [
    "**as the  p value  is less then 0.05 so we are going to reject null hypothesis**"
   ]
  },
  {
   "cell_type": "code",
   "execution_count": 72,
   "id": "b7ae5190",
   "metadata": {},
   "outputs": [],
   "source": [
    "from numpy.random import randn"
   ]
  },
  {
   "cell_type": "code",
   "execution_count": 73,
   "id": "08f30615",
   "metadata": {},
   "outputs": [],
   "source": [
    "my_data=randn(5000)"
   ]
  },
  {
   "cell_type": "code",
   "execution_count": 74,
   "id": "ae842531",
   "metadata": {},
   "outputs": [
    {
     "data": {
      "text/plain": [
       "<AxesSubplot: ylabel='Density'>"
      ]
     },
     "execution_count": 74,
     "metadata": {},
     "output_type": "execute_result"
    },
    {
     "data": {
      "image/png": "[encoded data removed]",
      "text/plain": [
       "<Figure size 500x300 with 1 Axes>"
      ]
     },
     "metadata": {},
     "output_type": "display_data"
    }
   ],
   "source": [
    "sns.distplot(my_data)"
   ]
  },
  {
   "cell_type": "code",
   "execution_count": 75,
   "id": "e44f38d3",
   "metadata": {},
   "outputs": [],
   "source": [
    "result=stats.shapiro(my_data)"
   ]
  },
  {
   "cell_type": "code",
   "execution_count": 76,
   "id": "08ccdf10",
   "metadata": {},
   "outputs": [],
   "source": [
    "p=0.05"
   ]
  },
  {
   "cell_type": "code",
   "execution_count": 77,
   "id": "1a708bc6",
   "metadata": {},
   "outputs": [
    {
     "data": {
      "text/plain": [
       "ShapiroResult(statistic=0.9997029304504395, pvalue=0.7154335379600525)"
      ]
     },
     "execution_count": 77,
     "metadata": {},
     "output_type": "execute_result"
    }
   ],
   "source": [
    "result"
   ]
  },
  {
   "cell_type": "markdown",
   "id": "b0199481",
   "metadata": {},
   "source": [
    "### what is null Hypothesis??\n",
    "### Null Hypothes that the data was drawn from a normal distribution"
   ]
  },
  {
   "cell_type": "code",
   "execution_count": 78,
   "id": "8c29a019",
   "metadata": {},
   "outputs": [
    {
     "name": "stdout",
     "output_type": "stream",
     "text": [
      "Reject the null hypothesis\n"
     ]
    }
   ],
   "source": [
    "if p<=result[1]:\n",
    "    print(\"Reject the null hypothesis\")\n",
    "else:\n",
    "    print(\"Accept The null Hypothesis\")"
   ]
  },
  {
   "cell_type": "code",
   "execution_count": 79,
   "id": "b543bf83",
   "metadata": {},
   "outputs": [],
   "source": [
    "from scipy import stats\n",
    "\n",
    "    "
   ]
  },
  {
   "cell_type": "code",
   "execution_count": 80,
   "id": "4a6b6f2c",
   "metadata": {},
   "outputs": [
    {
     "data": {
      "text/plain": [
       "NormaltestResult(statistic=152.039214793795, pvalue=9.662822259281016e-34)"
      ]
     },
     "execution_count": 80,
     "metadata": {},
     "output_type": "execute_result"
    }
   ],
   "source": [
    "stats.normaltest(data['citric acid'])"
   ]
  },
  {
   "cell_type": "code",
   "execution_count": 81,
   "id": "8d653dc9",
   "metadata": {},
   "outputs": [
    {
     "data": {
      "text/plain": [
       "NormaltestResult(statistic=2.4745846683712074, pvalue=0.2901688354548369)"
      ]
     },
     "execution_count": 81,
     "metadata": {},
     "output_type": "execute_result"
    }
   ],
   "source": [
    "stats.normaltest(my_data)"
   ]
  },
  {
   "cell_type": "markdown",
   "id": "b9ea2e49",
   "metadata": {},
   "source": [
    "### college students, 50 students average IQ-110, Mean Population IQ-100, std deviation=15,C.I=95%,S.L=0.05,H0=100,H1>100."
   ]
  },
  {
   "cell_type": "code",
   "execution_count": 82,
   "id": "1e5ea5f3",
   "metadata": {},
   "outputs": [],
   "source": [
    "mean_population_iq=100\n",
    "mean_std_dev=15"
   ]
  },
  {
   "cell_type": "code",
   "execution_count": 83,
   "id": "7178da57",
   "metadata": {},
   "outputs": [],
   "source": [
    "sample_mean_iq=110\n",
    "alpha=0.05\n",
    "#ci=95%\n"
   ]
  },
  {
   "cell_type": "code",
   "execution_count": null,
   "id": "4fec04ff",
   "metadata": {},
   "outputs": [],
   "source": [
    "mean_std_dev*randn(50)+mean_population_iq"
   ]
  },
  {
   "cell_type": "code",
   "execution_count": null,
   "id": "570b4df2",
   "metadata": {},
   "outputs": [],
   "source": [
    "data=mean_std_dev*randn(50)+mean_population_iq"
   ]
  },
  {
   "cell_type": "code",
   "execution_count": null,
   "id": "0033849a",
   "metadata": {},
   "outputs": [],
   "source": []
  },
  {
   "cell_type": "code",
   "execution_count": null,
   "id": "9815e235",
   "metadata": {},
   "outputs": [],
   "source": [
    "np.mean(data)"
   ]
  },
  {
   "cell_type": "code",
   "execution_count": 80,
   "id": "16d1bf90",
   "metadata": {},
   "outputs": [
    {
     "data": {
      "text/plain": [
       "14.59521930926141"
      ]
     },
     "execution_count": 80,
     "metadata": {},
     "output_type": "execute_result"
    }
   ],
   "source": [
    "np.std(data)"
   ]
  },
  {
   "cell_type": "code",
   "execution_count": 81,
   "id": "4605bc8f",
   "metadata": {},
   "outputs": [],
   "source": [
    "null_value=100"
   ]
  },
  {
   "cell_type": "code",
   "execution_count": 82,
   "id": "67767110",
   "metadata": {},
   "outputs": [],
   "source": [
    "from statsmodels.stats.weightstats import ztest\n",
    "z_score=ztest(data,value=null_value,alternative=\"larger\")"
   ]
  },
  {
   "cell_type": "code",
   "execution_count": 83,
   "id": "e28a461f",
   "metadata": {},
   "outputs": [
    {
     "data": {
      "text/plain": [
       "0.935957743860912"
      ]
     },
     "execution_count": 83,
     "metadata": {},
     "output_type": "execute_result"
    }
   ],
   "source": [
    "p_value"
   ]
  },
  {
   "cell_type": "code",
   "execution_count": 84,
   "id": "5f7ccbff",
   "metadata": {},
   "outputs": [
    {
     "data": {
      "text/plain": [
       "(-1.2273342158094518, 0.8901514997531206)"
      ]
     },
     "execution_count": 84,
     "metadata": {},
     "output_type": "execute_result"
    }
   ],
   "source": [
    "z_score"
   ]
  },
  {
   "cell_type": "code",
   "execution_count": 85,
   "id": "6f22fb55",
   "metadata": {},
   "outputs": [
    {
     "name": "stdout",
     "output_type": "stream",
     "text": [
      "Reject the null hypothesis\n"
     ]
    }
   ],
   "source": [
    "if alpha<=z_score[1]:\n",
    "    print(\"Reject the null hypothesis\")\n",
    "else:\n",
    "    print(\"Accept The null Hypothesis\")"
   ]
  },
  {
   "cell_type": "markdown",
   "id": "adc89d56",
   "metadata": {},
   "source": [
    "***T_TEST***\n",
    "### t-test vs z_test ###\n",
    "### sample size less then 30\n",
    "### population varience/population std div won't be there ###\n"
   ]
  },
  {
   "cell_type": "markdown",
   "id": "bd65a6a3",
   "metadata": {},
   "source": [
    "### one-sample t test(with respect to one independent sample)\n",
    "### two-sample t test (with respect to two independent sample)\n",
    "### paired t test (two sample from the sample population on differnt time interval)"
   ]
  },
  {
   "cell_type": "code",
   "execution_count": 86,
   "id": "f3d79368",
   "metadata": {},
   "outputs": [
    {
     "data": {
      "text/plain": [
       "array([34, 17, 31, 42, 24, 46, 14, 42, 31, 34, 46, 31, 39, 25, 47, 24, 35,\n",
       "       12, 49, 35, 17, 25, 48, 12, 22, 23, 37, 45, 37, 25, 14, 14, 32, 19,\n",
       "       25, 19, 28, 48, 18, 35, 24, 15, 16, 42, 22, 13, 29, 37, 49, 38])"
      ]
     },
     "execution_count": 86,
     "metadata": {},
     "output_type": "execute_result"
    }
   ],
   "source": [
    "import random\n",
    "import numpy as np\n",
    "np.random.randint(10,50,50)"
   ]
  },
  {
   "cell_type": "code",
   "execution_count": 87,
   "id": "ca6d93e9",
   "metadata": {},
   "outputs": [],
   "source": [
    "populaton=np.random.randint(10,50,50)"
   ]
  },
  {
   "cell_type": "code",
   "execution_count": 88,
   "id": "0f62c45d",
   "metadata": {},
   "outputs": [],
   "source": [
    "sample1=np.random.choice(population,20)"
   ]
  },
  {
   "cell_type": "code",
   "execution_count": 89,
   "id": "ac6024f9",
   "metadata": {},
   "outputs": [
    {
     "data": {
      "text/plain": [
       "array([17, 18, 18, 12, 13, 11, 15, 11, 15, 11, 11, 11, 15, 11, 17, 15, 11,\n",
       "       13, 11, 18])"
      ]
     },
     "execution_count": 89,
     "metadata": {},
     "output_type": "execute_result"
    }
   ],
   "source": [
    "sample1"
   ]
  },
  {
   "cell_type": "code",
   "execution_count": 90,
   "id": "0146131a",
   "metadata": {},
   "outputs": [
    {
     "data": {
      "text/plain": [
       "13.7"
      ]
     },
     "execution_count": 90,
     "metadata": {},
     "output_type": "execute_result"
    }
   ],
   "source": [
    "sample1.mean()"
   ]
  },
  {
   "cell_type": "code",
   "execution_count": 91,
   "id": "b96d63f7",
   "metadata": {},
   "outputs": [],
   "source": [
    "sample2=np.random.choice(population,20)"
   ]
  },
  {
   "cell_type": "code",
   "execution_count": 92,
   "id": "b1da8e0f",
   "metadata": {},
   "outputs": [
    {
     "data": {
      "text/plain": [
       "array([15, 11, 13, 18, 11, 13, 18, 14, 11, 15, 15, 18, 13, 16, 11, 15, 13,\n",
       "       11, 13, 13])"
      ]
     },
     "execution_count": 92,
     "metadata": {},
     "output_type": "execute_result"
    }
   ],
   "source": [
    "sample2"
   ]
  },
  {
   "cell_type": "code",
   "execution_count": 93,
   "id": "975bf3fe",
   "metadata": {},
   "outputs": [
    {
     "data": {
      "text/plain": [
       "13.85"
      ]
     },
     "execution_count": 93,
     "metadata": {},
     "output_type": "execute_result"
    }
   ],
   "source": [
    "sample2.mean()"
   ]
  },
  {
   "cell_type": "code",
   "execution_count": 94,
   "id": "5488ad2f",
   "metadata": {},
   "outputs": [],
   "source": [
    "my_cricket_score=[35, 19, 47, 41, 10, 31, 25, 16, 28, 15, 27, 12, 38, 11, 17, 40, 14,\n",
    "       14, 14, 12]"
   ]
  },
  {
   "cell_type": "code",
   "execution_count": 95,
   "id": "8781da13",
   "metadata": {},
   "outputs": [],
   "source": [
    "virat_cricket_score=[17, 12, 32, 12, 37, 12, 20, 45, 15, 13, 15, 26, 14, 42, 12, 15, 16,\n",
    "       11, 14, 12]"
   ]
  },
  {
   "cell_type": "code",
   "execution_count": 96,
   "id": "8c59a9df",
   "metadata": {},
   "outputs": [
    {
     "data": {
      "text/plain": [
       "19.6"
      ]
     },
     "execution_count": 96,
     "metadata": {},
     "output_type": "execute_result"
    }
   ],
   "source": [
    "np.mean(virat_cricket_score)"
   ]
  },
  {
   "cell_type": "code",
   "execution_count": 97,
   "id": "9bc291d0",
   "metadata": {},
   "outputs": [
    {
     "data": {
      "text/plain": [
       "23.3"
      ]
     },
     "execution_count": 97,
     "metadata": {},
     "output_type": "execute_result"
    }
   ],
   "source": [
    "np.mean(my_cricket_score)"
   ]
  },
  {
   "cell_type": "markdown",
   "id": "74b5a847",
   "metadata": {},
   "source": [
    "### null hypothesis should be=sample mean(my_cricket_score= 23.3 ) ###\n",
    "## One sample T-Test ##\n",
    "## it will check  data of null hypothesis and Test Value(in this case test values are=15,19,25)\n",
    "### A one-sample t-test is used to determine whether a sample mean is significantly different from a known or hypothesized population mean. This test is used when we have only one sample, and we want to know if the mean of that sample is different from a specific value. For example, if we have a sample of test scores and we want to know if the average score in the population is different from 75, we can use a one-sample t-test to test this hypothesis."
   ]
  },
  {
   "cell_type": "code",
   "execution_count": 98,
   "id": "e2a6a716",
   "metadata": {},
   "outputs": [],
   "source": [
    "ALPHA=0.05"
   ]
  },
  {
   "cell_type": "markdown",
   "id": "a3335bb1",
   "metadata": {},
   "source": [
    "#### we are going to reject the null hypothesis if\n",
    "#### p_value<0.05\n",
    "#### we are goin to accept thr null hypothesis if\n",
    "#### p_value>0.05\n"
   ]
  },
  {
   "cell_type": "code",
   "execution_count": 99,
   "id": "f27dc069",
   "metadata": {},
   "outputs": [],
   "source": [
    "import scipy\n",
    "result1=scipy.stats.ttest_1samp(my_cricket_score,15)"
   ]
  },
  {
   "cell_type": "code",
   "execution_count": 100,
   "id": "2f3cfd38",
   "metadata": {},
   "outputs": [
    {
     "data": {
      "text/plain": [
       "Ttest_1sampResult(statistic=3.1560268200366757, pvalue=0.005201960373189532)"
      ]
     },
     "execution_count": 100,
     "metadata": {},
     "output_type": "execute_result"
    }
   ],
   "source": [
    "result1"
   ]
  },
  {
   "cell_type": "code",
   "execution_count": 101,
   "id": "54a73519",
   "metadata": {},
   "outputs": [
    {
     "name": "stdout",
     "output_type": "stream",
     "text": [
      "Reject The null Hypothesis\n"
     ]
    }
   ],
   "source": [
    "if alpha<=result1[1]:\n",
    "    print(\"Accept the null hypothesis\")\n",
    "else:\n",
    "    print(\"Reject The null Hypothesis\")"
   ]
  },
  {
   "cell_type": "code",
   "execution_count": 102,
   "id": "5c95d233",
   "metadata": {},
   "outputs": [],
   "source": [
    "import scipy\n",
    "result2=scipy.stats.ttest_1samp(my_cricket_score,19)"
   ]
  },
  {
   "cell_type": "code",
   "execution_count": 103,
   "id": "37b09ccf",
   "metadata": {},
   "outputs": [
    {
     "data": {
      "text/plain": [
       "Ttest_1sampResult(statistic=1.6350500392961091, pvalue=0.11849786825808668)"
      ]
     },
     "execution_count": 103,
     "metadata": {},
     "output_type": "execute_result"
    }
   ],
   "source": [
    "result2"
   ]
  },
  {
   "cell_type": "code",
   "execution_count": 104,
   "id": "750662ae",
   "metadata": {},
   "outputs": [
    {
     "name": "stdout",
     "output_type": "stream",
     "text": [
      "Accept the null hypothesis\n"
     ]
    }
   ],
   "source": [
    "if alpha<=result2[1]:\n",
    "    print(\"Accept the null hypothesis\")\n",
    "else:\n",
    "    print(\"Reject The null Hypothesis\")"
   ]
  },
  {
   "cell_type": "code",
   "execution_count": 105,
   "id": "4cf674ae",
   "metadata": {},
   "outputs": [],
   "source": [
    "\n",
    "result3=scipy.stats.ttest_1samp(my_cricket_score,25)"
   ]
  },
  {
   "cell_type": "code",
   "execution_count": 106,
   "id": "7a76030e",
   "metadata": {},
   "outputs": [
    {
     "data": {
      "text/plain": [
       "Ttest_1sampResult(statistic=-0.6464151318147405, pvalue=0.5257425988488835)"
      ]
     },
     "execution_count": 106,
     "metadata": {},
     "output_type": "execute_result"
    }
   ],
   "source": [
    "result3"
   ]
  },
  {
   "cell_type": "code",
   "execution_count": 107,
   "id": "a664a8f1",
   "metadata": {},
   "outputs": [
    {
     "name": "stdout",
     "output_type": "stream",
     "text": [
      "Accept the null hypothesis\n"
     ]
    }
   ],
   "source": [
    "if alpha<=result[1]:\n",
    "    print(\"Accept the null hypothesis\")\n",
    "else:\n",
    "    print(\"Reject The null Hypothesis\")"
   ]
  },
  {
   "cell_type": "markdown",
   "id": "f04fb74e",
   "metadata": {},
   "source": [
    "## Two_sample t test(with respect to two independent sample)\n",
    "### two-sample t-test is used to compare the means of two independent samples. This test is used when we have two samples and we want to know if there is a significant difference between their means. For example, if we have two groups of students and we want to know if there is a significant difference in their average test scores, we can use a two-sample t-test to test this hypothesis."
   ]
  },
  {
   "cell_type": "markdown",
   "id": "286a7afd",
   "metadata": {},
   "source": [
    "#### my_null_hypothesis=both sample mean will be same\n",
    "#### if p_value<=alpha:\"we are going to reject the null hyphothes       \n",
    "#### if p_value=> (\"we are going to accept the null hyphgothesis\")"
   ]
  },
  {
   "cell_type": "code",
   "execution_count": 108,
   "id": "6565b30a",
   "metadata": {},
   "outputs": [],
   "source": [
    "\n",
    "my_cricket_score=[35, 19, 47, 41, 10, 31, 25, 16, 28, 15, 27, 12, 38, 11, 17, 40, 14,\n",
    "       14, 14, 12]\n",
    "\n",
    "virat_cricket_score=[42, 41, 32, 45, 47, 49, 20, 45, 48, 49, 39, 26, 14, 42, 12, 15, 16,\n",
    "       11, 37, 42]"
   ]
  },
  {
   "cell_type": "code",
   "execution_count": 109,
   "id": "0554162b",
   "metadata": {},
   "outputs": [],
   "source": [
    "first_sample_mean=np.mean(my_cricket_score)\n",
    "second_sample_mean=np.mean(virat_cricket_score)"
   ]
  },
  {
   "cell_type": "code",
   "execution_count": 110,
   "id": "16e0eda0",
   "metadata": {},
   "outputs": [
    {
     "name": "stdout",
     "output_type": "stream",
     "text": [
      "23.3\n",
      "33.6\n"
     ]
    }
   ],
   "source": [
    "print(first_sample_mean)\n",
    "print(second_sample_mean)"
   ]
  },
  {
   "cell_type": "code",
   "execution_count": 111,
   "id": "fd06b378",
   "metadata": {},
   "outputs": [],
   "source": [
    "\n",
    "r=scipy.stats.ttest_ind(my_cricket_score,virat_cricket_score)"
   ]
  },
  {
   "cell_type": "code",
   "execution_count": 112,
   "id": "2fe2298b",
   "metadata": {},
   "outputs": [
    {
     "data": {
      "text/plain": [
       "0.01583155511157017"
      ]
     },
     "execution_count": 112,
     "metadata": {},
     "output_type": "execute_result"
    }
   ],
   "source": [
    "r[1]"
   ]
  },
  {
   "cell_type": "code",
   "execution_count": 113,
   "id": "a5ded65b",
   "metadata": {
    "scrolled": true
   },
   "outputs": [
    {
     "name": "stdout",
     "output_type": "stream",
     "text": [
      "we are going to reject the null hyphothesis\n"
     ]
    }
   ],
   "source": [
    "if r[1]<=alpha:\n",
    "       print(\"we are going to reject the null hyphothesis\")\n",
    "else:       \n",
    "      print(\"we are going to accept the null hyphgothesis\")"
   ]
  },
  {
   "cell_type": "code",
   "execution_count": 114,
   "id": "431e4a94",
   "metadata": {},
   "outputs": [],
   "source": [
    "\n",
    "my_cricket_score=[22, 38, 19, 15, 48, 11, 10, 49, 47, 38, 10, 25, 46, 10, 21, 24, 29,36, 25, 24]\n",
    "virat_cricket_score=[22, 38, 29, 15, 18, 11, 10, 49, 47, 38, 50, 45, 46, 40, 21, 24, 29,16, 25, 24]"
   ]
  },
  {
   "cell_type": "code",
   "execution_count": 115,
   "id": "6422f988",
   "metadata": {},
   "outputs": [],
   "source": [
    "r2=scipy.stats.ttest_ind(my_cricket_score,virat_cricket_score)"
   ]
  },
  {
   "cell_type": "code",
   "execution_count": 116,
   "id": "78169fb5",
   "metadata": {},
   "outputs": [
    {
     "data": {
      "text/plain": [
       "Ttest_indResult(statistic=-0.59285929587639, pvalue=0.5567873758737613)"
      ]
     },
     "execution_count": 116,
     "metadata": {},
     "output_type": "execute_result"
    }
   ],
   "source": [
    "r2"
   ]
  },
  {
   "cell_type": "code",
   "execution_count": 117,
   "id": "1fc60355",
   "metadata": {},
   "outputs": [
    {
     "name": "stdout",
     "output_type": "stream",
     "text": [
      "we are going to accept the null hyphgothesis\n"
     ]
    }
   ],
   "source": [
    "if r2[1]<=alpha:\n",
    "       print(\"we are going to reject the null hyphothesis\")\n",
    "else:       \n",
    "      print(\"we are going to accept the null hyphgothesis\")"
   ]
  },
  {
   "cell_type": "markdown",
   "id": "08e3d485",
   "metadata": {},
   "source": [
    "## paired t-test(two sample from the sample population on different time interval)\n",
    "\n",
    "### A paired samples t-test is used when comparing the means of two related groups. For example, it can be used to compare the average scores of the same group of students on a test before and after a certain intervention."
   ]
  },
  {
   "cell_type": "code",
   "execution_count": 118,
   "id": "def7fdd5",
   "metadata": {},
   "outputs": [],
   "source": [
    "\n",
    "my_cricket_score_from_first_inning=[22, 38, 19, 15, 48, 11, 10, 49, 47, 38, 10, 25, 46, 10, 21, 24, 29,36, 25, 24]\n",
    "my_cricket_score_from_second_inning=[22, 38, 29, 15, 18, 11, 10, 49, 47, 38, 50, 45, 46, 40, 21, 24, 29,16, 25, 24]"
   ]
  },
  {
   "cell_type": "code",
   "execution_count": 119,
   "id": "a3154afd",
   "metadata": {},
   "outputs": [
    {
     "name": "stdout",
     "output_type": "stream",
     "text": [
      "27.35\n",
      "29.85\n"
     ]
    }
   ],
   "source": [
    "print(np.mean(my_cricket_score_from_first_inning))\n",
    "print(np.mean(my_cricket_score_from_second_inning))"
   ]
  },
  {
   "cell_type": "code",
   "execution_count": 120,
   "id": "f38a933d",
   "metadata": {},
   "outputs": [],
   "source": [
    "pr=scipy.stats.ttest_rel(my_cricket_score_from_first_inning,my_cricket_score_from_second_inning)"
   ]
  },
  {
   "cell_type": "code",
   "execution_count": 121,
   "id": "004d29fd",
   "metadata": {},
   "outputs": [
    {
     "data": {
      "text/plain": [
       "Ttest_relResult(statistic=-0.7542295906745516, pvalue=0.45995773816634733)"
      ]
     },
     "execution_count": 121,
     "metadata": {},
     "output_type": "execute_result"
    }
   ],
   "source": [
    "pr"
   ]
  },
  {
   "cell_type": "code",
   "execution_count": 122,
   "id": "fc7af1b4",
   "metadata": {},
   "outputs": [
    {
     "name": "stdout",
     "output_type": "stream",
     "text": [
      "we are going to accept the null hyphgothesis\n"
     ]
    }
   ],
   "source": [
    "if pr[1]<=alpha:\n",
    "       print(\"we are going to reject the null hyphothesis\")\n",
    "else:       \n",
    "      print(\"we are going to accept the null hyphgothesis\")"
   ]
  },
  {
   "cell_type": "markdown",
   "id": "868b0f32",
   "metadata": {},
   "source": [
    "# CHI -SQURE TEST"
   ]
  },
  {
   "cell_type": "code",
   "execution_count": 123,
   "id": "457da7c6",
   "metadata": {},
   "outputs": [],
   "source": [
    "import seaborn as sns\n",
    "dataset=sns.load_dataset('tips')"
   ]
  },
  {
   "cell_type": "code",
   "execution_count": 124,
   "id": "a800c24a",
   "metadata": {},
   "outputs": [
    {
     "data": {
      "text/html": [
       "<div>\n",
       "<style scoped>\n",
       "    .dataframe tbody tr th:only-of-type {\n",
       "        vertical-align: middle;\n",
       "    }\n",
       "\n",
       "    .dataframe tbody tr th {\n",
       "        vertical-align: top;\n",
       "    }\n",
       "\n",
       "    .dataframe thead th {\n",
       "        text-align: right;\n",
       "    }\n",
       "</style>\n",
       "<table border=\"1\" class=\"dataframe\">\n",
       "  <thead>\n",
       "    <tr style=\"text-align: right;\">\n",
       "      <th></th>\n",
       "      <th>total_bill</th>\n",
       "      <th>tip</th>\n",
       "      <th>sex</th>\n",
       "      <th>smoker</th>\n",
       "      <th>day</th>\n",
       "      <th>time</th>\n",
       "      <th>size</th>\n",
       "    </tr>\n",
       "  </thead>\n",
       "  <tbody>\n",
       "    <tr>\n",
       "      <th>0</th>\n",
       "      <td>16.99</td>\n",
       "      <td>1.01</td>\n",
       "      <td>Female</td>\n",
       "      <td>No</td>\n",
       "      <td>Sun</td>\n",
       "      <td>Dinner</td>\n",
       "      <td>2</td>\n",
       "    </tr>\n",
       "    <tr>\n",
       "      <th>1</th>\n",
       "      <td>10.34</td>\n",
       "      <td>1.66</td>\n",
       "      <td>Male</td>\n",
       "      <td>No</td>\n",
       "      <td>Sun</td>\n",
       "      <td>Dinner</td>\n",
       "      <td>3</td>\n",
       "    </tr>\n",
       "    <tr>\n",
       "      <th>2</th>\n",
       "      <td>21.01</td>\n",
       "      <td>3.50</td>\n",
       "      <td>Male</td>\n",
       "      <td>No</td>\n",
       "      <td>Sun</td>\n",
       "      <td>Dinner</td>\n",
       "      <td>3</td>\n",
       "    </tr>\n",
       "  </tbody>\n",
       "</table>\n",
       "</div>"
      ],
      "text/plain": [
       "   total_bill   tip     sex smoker  day    time  size\n",
       "0       16.99  1.01  Female     No  Sun  Dinner     2\n",
       "1       10.34  1.66    Male     No  Sun  Dinner     3\n",
       "2       21.01  3.50    Male     No  Sun  Dinner     3"
      ]
     },
     "execution_count": 124,
     "metadata": {},
     "output_type": "execute_result"
    }
   ],
   "source": [
    "dataset.head(3)"
   ]
  },
  {
   "cell_type": "code",
   "execution_count": 125,
   "id": "494babdc",
   "metadata": {},
   "outputs": [
    {
     "name": "stdout",
     "output_type": "stream",
     "text": [
      "<class 'pandas.core.frame.DataFrame'>\n",
      "RangeIndex: 244 entries, 0 to 243\n",
      "Data columns (total 7 columns):\n",
      " #   Column      Non-Null Count  Dtype   \n",
      "---  ------      --------------  -----   \n",
      " 0   total_bill  244 non-null    float64 \n",
      " 1   tip         244 non-null    float64 \n",
      " 2   sex         244 non-null    category\n",
      " 3   smoker      244 non-null    category\n",
      " 4   day         244 non-null    category\n",
      " 5   time        244 non-null    category\n",
      " 6   size        244 non-null    int64   \n",
      "dtypes: category(4), float64(2), int64(1)\n",
      "memory usage: 7.4 KB\n"
     ]
    }
   ],
   "source": [
    "dataset.info()"
   ]
  },
  {
   "cell_type": "code",
   "execution_count": 126,
   "id": "610bb19c",
   "metadata": {},
   "outputs": [
    {
     "data": {
      "text/html": [
       "<div>\n",
       "<style scoped>\n",
       "    .dataframe tbody tr th:only-of-type {\n",
       "        vertical-align: middle;\n",
       "    }\n",
       "\n",
       "    .dataframe tbody tr th {\n",
       "        vertical-align: top;\n",
       "    }\n",
       "\n",
       "    .dataframe thead th {\n",
       "        text-align: right;\n",
       "    }\n",
       "</style>\n",
       "<table border=\"1\" class=\"dataframe\">\n",
       "  <thead>\n",
       "    <tr style=\"text-align: right;\">\n",
       "      <th></th>\n",
       "      <th>sex</th>\n",
       "      <th>smoker</th>\n",
       "    </tr>\n",
       "  </thead>\n",
       "  <tbody>\n",
       "    <tr>\n",
       "      <th>0</th>\n",
       "      <td>Female</td>\n",
       "      <td>No</td>\n",
       "    </tr>\n",
       "    <tr>\n",
       "      <th>1</th>\n",
       "      <td>Male</td>\n",
       "      <td>No</td>\n",
       "    </tr>\n",
       "    <tr>\n",
       "      <th>2</th>\n",
       "      <td>Male</td>\n",
       "      <td>No</td>\n",
       "    </tr>\n",
       "    <tr>\n",
       "      <th>3</th>\n",
       "      <td>Male</td>\n",
       "      <td>No</td>\n",
       "    </tr>\n",
       "    <tr>\n",
       "      <th>4</th>\n",
       "      <td>Female</td>\n",
       "      <td>No</td>\n",
       "    </tr>\n",
       "    <tr>\n",
       "      <th>...</th>\n",
       "      <td>...</td>\n",
       "      <td>...</td>\n",
       "    </tr>\n",
       "    <tr>\n",
       "      <th>239</th>\n",
       "      <td>Male</td>\n",
       "      <td>No</td>\n",
       "    </tr>\n",
       "    <tr>\n",
       "      <th>240</th>\n",
       "      <td>Female</td>\n",
       "      <td>Yes</td>\n",
       "    </tr>\n",
       "    <tr>\n",
       "      <th>241</th>\n",
       "      <td>Male</td>\n",
       "      <td>Yes</td>\n",
       "    </tr>\n",
       "    <tr>\n",
       "      <th>242</th>\n",
       "      <td>Male</td>\n",
       "      <td>No</td>\n",
       "    </tr>\n",
       "    <tr>\n",
       "      <th>243</th>\n",
       "      <td>Female</td>\n",
       "      <td>No</td>\n",
       "    </tr>\n",
       "  </tbody>\n",
       "</table>\n",
       "<p>244 rows × 2 columns</p>\n",
       "</div>"
      ],
      "text/plain": [
       "        sex smoker\n",
       "0    Female     No\n",
       "1      Male     No\n",
       "2      Male     No\n",
       "3      Male     No\n",
       "4    Female     No\n",
       "..      ...    ...\n",
       "239    Male     No\n",
       "240  Female    Yes\n",
       "241    Male    Yes\n",
       "242    Male     No\n",
       "243  Female     No\n",
       "\n",
       "[244 rows x 2 columns]"
      ]
     },
     "execution_count": 126,
     "metadata": {},
     "output_type": "execute_result"
    }
   ],
   "source": [
    "dataset[['sex','smoker']]"
   ]
  },
  {
   "cell_type": "code",
   "execution_count": 127,
   "id": "5678ddfe",
   "metadata": {},
   "outputs": [],
   "source": [
    "dataset_table=pd.crosstab(dataset['sex'],dataset['smoker'])"
   ]
  },
  {
   "cell_type": "code",
   "execution_count": 128,
   "id": "bc278293",
   "metadata": {},
   "outputs": [],
   "source": [
    "dataset_array=dataset_table.values"
   ]
  },
  {
   "cell_type": "code",
   "execution_count": 164,
   "id": "666cd87e",
   "metadata": {},
   "outputs": [
    {
     "name": "stdout",
     "output_type": "stream",
     "text": [
      "Observed_Values\n",
      " [[60 97]\n",
      " [33 54]]\n"
     ]
    }
   ],
   "source": [
    "print(f\"Observed_Values\\n {dataset_array}\")"
   ]
  },
  {
   "cell_type": "code",
   "execution_count": 165,
   "id": "0cfd06d7",
   "metadata": {},
   "outputs": [],
   "source": [
    "Observed_Values=dataset_table.values"
   ]
  },
  {
   "cell_type": "code",
   "execution_count": 166,
   "id": "bed256d5",
   "metadata": {},
   "outputs": [],
   "source": [
    "import scipy.stats as stats"
   ]
  },
  {
   "cell_type": "code",
   "execution_count": 167,
   "id": "de2e015a",
   "metadata": {},
   "outputs": [
    {
     "data": {
      "text/plain": [
       "(0.0,\n",
       " 1.0,\n",
       " 1,\n",
       " array([[59.84016393, 97.15983607],\n",
       "        [33.15983607, 53.84016393]]))"
      ]
     },
     "execution_count": 167,
     "metadata": {},
     "output_type": "execute_result"
    }
   ],
   "source": [
    "stats.chi2_contingency(dataset_array)"
   ]
  },
  {
   "cell_type": "code",
   "execution_count": 168,
   "id": "ae213f5b",
   "metadata": {},
   "outputs": [],
   "source": [
    "stats_test,p,dof,expected_values=stats.chi2_contingency(dataset_array)"
   ]
  },
  {
   "cell_type": "code",
   "execution_count": 169,
   "id": "5ff43b0c",
   "metadata": {},
   "outputs": [
    {
     "data": {
      "text/plain": [
       "0.0"
      ]
     },
     "execution_count": 169,
     "metadata": {},
     "output_type": "execute_result"
    }
   ],
   "source": [
    "stats_test"
   ]
  },
  {
   "cell_type": "code",
   "execution_count": 170,
   "id": "05049083",
   "metadata": {},
   "outputs": [
    {
     "data": {
      "text/plain": [
       "1.0"
      ]
     },
     "execution_count": 170,
     "metadata": {},
     "output_type": "execute_result"
    }
   ],
   "source": [
    "p"
   ]
  },
  {
   "cell_type": "code",
   "execution_count": 171,
   "id": "13a698f8",
   "metadata": {},
   "outputs": [
    {
     "data": {
      "text/plain": [
       "array([[59.84016393, 97.15983607],\n",
       "       [33.15983607, 53.84016393]])"
      ]
     },
     "execution_count": 171,
     "metadata": {},
     "output_type": "execute_result"
    }
   ],
   "source": [
    "expected_values"
   ]
  },
  {
   "cell_type": "code",
   "execution_count": 172,
   "id": "e3c354ad",
   "metadata": {},
   "outputs": [
    {
     "data": {
      "text/plain": [
       "1"
      ]
     },
     "execution_count": 172,
     "metadata": {},
     "output_type": "execute_result"
    }
   ],
   "source": [
    "dof"
   ]
  },
  {
   "cell_type": "code",
   "execution_count": 173,
   "id": "7a23ddfa",
   "metadata": {},
   "outputs": [],
   "source": [
    "Expected_Values=expected_values"
   ]
  },
  {
   "cell_type": "code",
   "execution_count": 174,
   "id": "bb580111",
   "metadata": {},
   "outputs": [
    {
     "data": {
      "text/html": [
       "<div>\n",
       "<style scoped>\n",
       "    .dataframe tbody tr th:only-of-type {\n",
       "        vertical-align: middle;\n",
       "    }\n",
       "\n",
       "    .dataframe tbody tr th {\n",
       "        vertical-align: top;\n",
       "    }\n",
       "\n",
       "    .dataframe thead th {\n",
       "        text-align: right;\n",
       "    }\n",
       "</style>\n",
       "<table border=\"1\" class=\"dataframe\">\n",
       "  <thead>\n",
       "    <tr style=\"text-align: right;\">\n",
       "      <th>smoker</th>\n",
       "      <th>Yes</th>\n",
       "      <th>No</th>\n",
       "    </tr>\n",
       "    <tr>\n",
       "      <th>sex</th>\n",
       "      <th></th>\n",
       "      <th></th>\n",
       "    </tr>\n",
       "  </thead>\n",
       "  <tbody>\n",
       "    <tr>\n",
       "      <th>Male</th>\n",
       "      <td>60</td>\n",
       "      <td>97</td>\n",
       "    </tr>\n",
       "    <tr>\n",
       "      <th>Female</th>\n",
       "      <td>33</td>\n",
       "      <td>54</td>\n",
       "    </tr>\n",
       "  </tbody>\n",
       "</table>\n",
       "</div>"
      ],
      "text/plain": [
       "smoker  Yes  No\n",
       "sex            \n",
       "Male     60  97\n",
       "Female   33  54"
      ]
     },
     "execution_count": 174,
     "metadata": {},
     "output_type": "execute_result"
    }
   ],
   "source": [
    "dataset_table"
   ]
  },
  {
   "cell_type": "code",
   "execution_count": 175,
   "id": "3b95ab5d",
   "metadata": {},
   "outputs": [
    {
     "data": {
      "text/plain": [
       "sex\n",
       "Male      60\n",
       "Female    33\n",
       "Name: Yes, dtype: int64"
      ]
     },
     "execution_count": 175,
     "metadata": {},
     "output_type": "execute_result"
    }
   ],
   "source": [
    "no_of_rows=dataset_table.iloc[0:2,0]\n",
    "no_of_rows"
   ]
  },
  {
   "cell_type": "code",
   "execution_count": 176,
   "id": "1352448f",
   "metadata": {},
   "outputs": [
    {
     "data": {
      "text/plain": [
       "smoker\n",
       "Yes    60\n",
       "No     97\n",
       "Name: Male, dtype: int64"
      ]
     },
     "execution_count": 176,
     "metadata": {},
     "output_type": "execute_result"
    }
   ],
   "source": [
    "no_of_column=dataset_table.iloc[0,0:2]\n",
    "no_of_column"
   ]
  },
  {
   "cell_type": "code",
   "execution_count": 177,
   "id": "1c1a3ce6",
   "metadata": {},
   "outputs": [],
   "source": [
    "dof=(len(no_of_rows)-1)*(len(no_of_column)-1)"
   ]
  },
  {
   "cell_type": "code",
   "execution_count": 178,
   "id": "dfc67ca0",
   "metadata": {},
   "outputs": [
    {
     "data": {
      "text/plain": [
       "1"
      ]
     },
     "execution_count": 178,
     "metadata": {},
     "output_type": "execute_result"
    }
   ],
   "source": [
    "dof"
   ]
  },
  {
   "cell_type": "code",
   "execution_count": 179,
   "id": "d0282853",
   "metadata": {},
   "outputs": [
    {
     "name": "stdout",
     "output_type": "stream",
     "text": [
      "[60 97] [59.84016393 97.15983607]\n",
      "[33 54] [33.15983607 53.84016393]\n"
     ]
    }
   ],
   "source": [
    "for o,e in zip(Observed_Values,Expected_Values):\n",
    "    print(o,e)"
   ]
  },
  {
   "cell_type": "code",
   "execution_count": 180,
   "id": "0b0900e6",
   "metadata": {},
   "outputs": [],
   "source": [
    "from scipy.stats import chi2\n",
    "chisqure_test=sum([(o-e)**2./e for o,e in zip(Observed_Values,Expected_Values)])"
   ]
  },
  {
   "cell_type": "code",
   "execution_count": 182,
   "id": "bf3114dd",
   "metadata": {},
   "outputs": [
    {
     "data": {
      "text/plain": [
       "array([0.00119737, 0.00073745])"
      ]
     },
     "execution_count": 182,
     "metadata": {},
     "output_type": "execute_result"
    }
   ],
   "source": [
    "chisqure_test"
   ]
  },
  {
   "cell_type": "code",
   "execution_count": 183,
   "id": "77afd277",
   "metadata": {},
   "outputs": [],
   "source": [
    "chi_square_statistic=chisqure_test[0]+chisqure_test[1]"
   ]
  },
  {
   "cell_type": "code",
   "execution_count": 184,
   "id": "cf42dd9a",
   "metadata": {},
   "outputs": [
    {
     "data": {
      "text/plain": [
       "0.001934818536627623"
      ]
     },
     "execution_count": 184,
     "metadata": {},
     "output_type": "execute_result"
    }
   ],
   "source": [
    "chi_square_statistic"
   ]
  },
  {
   "cell_type": "code",
   "execution_count": 185,
   "id": "caca1025",
   "metadata": {},
   "outputs": [],
   "source": [
    "alpha=0.05"
   ]
  },
  {
   "cell_type": "code",
   "execution_count": 186,
   "id": "d6f66d80",
   "metadata": {},
   "outputs": [],
   "source": [
    "from scipy.stats import chi2\n",
    "critical_value=chi2.ppf(1-alpha,df=dof)"
   ]
  },
  {
   "cell_type": "code",
   "execution_count": 187,
   "id": "5b8cea1d",
   "metadata": {},
   "outputs": [
    {
     "name": "stdout",
     "output_type": "stream",
     "text": [
      "Retain H0,There is no relationship between 2 categorical variables\n"
     ]
    }
   ],
   "source": [
    "if chi_square_statistic>=critical_value:\n",
    "    print(\"Reject H0,There is a relationship between 2 categorical variables\")\n",
    "else:\n",
    "    print(\"Retain H0,There is no relationship between 2 categorical variables\")"
   ]
  },
  {
   "cell_type": "code",
   "execution_count": 188,
   "id": "d3a34991",
   "metadata": {},
   "outputs": [],
   "source": [
    "p_value=1-chi2.cdf(x=chi_square_statistic,df=dof)"
   ]
  },
  {
   "cell_type": "code",
   "execution_count": 460,
   "id": "2b02a364",
   "metadata": {},
   "outputs": [
    {
     "name": "stdout",
     "output_type": "stream",
     "text": [
      "Retain H0,There is no relationship between 2 categorical variables\n"
     ]
    }
   ],
   "source": [
    "\n",
    "\n",
    "if p_value<=alpha:\n",
    "    print(\"Reject H0,There is a relationship between 2 categorical variables\")\n",
    "else:\n",
    "    print(\"Retain H0,There is no relationship between 2 categorical variables\")"
   ]
  },
  {
   "cell_type": "code",
   "execution_count": 152,
   "id": "fb1da93b",
   "metadata": {},
   "outputs": [
    {
     "data": {
      "text/plain": [
       "<scipy.stats._continuous_distns.chi2_gen at 0x1f22ac2e100>"
      ]
     },
     "execution_count": 152,
     "metadata": {},
     "output_type": "execute_result"
    }
   ],
   "source": [
    "chi2"
   ]
  },
  {
   "cell_type": "code",
   "execution_count": null,
   "id": "5a9800f7",
   "metadata": {},
   "outputs": [],
   "source": []
  }
 ],
 "metadata": {
  "kernelspec": {
   "display_name": "Python 3 (ipykernel)",
   "language": "python",
   "name": "python3"
  },
  "language_info": {
   "codemirror_mode": {
    "name": "ipython",
    "version": 3
   },
   "file_extension": ".py",
   "mimetype": "text/x-python",
   "name": "python",
   "nbconvert_exporter": "python",
   "pygments_lexer": "ipython3",
   "version": "3.9.12"
  }
 },
 "nbformat": 4,
 "nbformat_minor": 5
}
